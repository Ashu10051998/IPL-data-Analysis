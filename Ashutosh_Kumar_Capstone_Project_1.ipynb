{
  "nbformat": 4,
  "nbformat_minor": 0,
  "metadata": {
    "kernelspec": {
      "display_name": "Python 3",
      "language": "python",
      "name": "python3"
    },
    "language_info": {
      "codemirror_mode": {
        "name": "ipython",
        "version": 3
      },
      "file_extension": ".py",
      "mimetype": "text/x-python",
      "name": "python",
      "nbconvert_exporter": "python",
      "pygments_lexer": "ipython3",
      "version": "3.6.6"
    },
    "colab": {
      "name": "Ashutosh Kumar- Capstone Project 1.ipynb",
      "provenance": [],
      "include_colab_link": true
    }
  },
  "cells": [
    {
      "cell_type": "markdown",
      "metadata": {
        "id": "view-in-github",
        "colab_type": "text"
      },
      "source": [
        "<a href=\"https://colab.research.google.com/github/Ashu10051998/IPL-data-Analysis/blob/main/Ashutosh_Kumar_Capstone_Project_1.ipynb\" target=\"_parent\"><img src=\"https://colab.research.google.com/assets/colab-badge.svg\" alt=\"Open In Colab\"/></a>"
      ]
    },
    {
      "cell_type": "markdown",
      "metadata": {
        "id": "Y06xIdG26kRF"
      },
      "source": [
        "## <b> Indian Premier League(IPL) is a professional Twenty20 cricket league in India contested during March or April and May of every year by eight teams representing eight different cities in India. The league was founded by the Board of Control for Cricket in India(BCCI) in 2008. </b>\n",
        "\n",
        "## <b> Explore and analyze the data to discover results and statistics for different teams playing in IPL. </b>"
      ]
    },
    {
      "cell_type": "code",
      "metadata": {
        "id": "dByMsuzT8Tnw"
      },
      "source": [
        "import pandas as pd\n",
        "import numpy as np"
      ],
      "execution_count": null,
      "outputs": []
    },
    {
      "cell_type": "code",
      "metadata": {
        "id": "8-O_9giy5m-g"
      },
      "source": [
        "import matplotlib.pyplot as plt\n",
        "%matplotlib inline\n",
        "import seaborn as sns"
      ],
      "execution_count": null,
      "outputs": []
    },
    {
      "cell_type": "code",
      "metadata": {
        "colab": {
          "base_uri": "https://localhost:8080/"
        },
        "id": "Qm5OzXYi5sMq",
        "outputId": "8de450de-90ea-4bdc-e0ff-9041b9340107"
      },
      "source": [
        "from google.colab import drive\n",
        "drive.mount('/content/drive')"
      ],
      "execution_count": null,
      "outputs": [
        {
          "output_type": "stream",
          "text": [
            "Mounted at /content/drive\n"
          ],
          "name": "stdout"
        }
      ]
    },
    {
      "cell_type": "code",
      "metadata": {
        "id": "1oMqlru45qnh"
      },
      "source": [
        "file_path=\"/content/drive/MyDrive/1st capstone project data/\"\n",
        "ipl_df=pd.read_csv(file_path +'deliveries.csv')\n"
      ],
      "execution_count": null,
      "outputs": []
    },
    {
      "cell_type": "code",
      "metadata": {
        "id": "WdQI_3Vk5qkI"
      },
      "source": [
        "ipl_df=pd.read_csv('/content/drive/MyDrive/1st capstone project data/deliveries.csv')"
      ],
      "execution_count": null,
      "outputs": []
    },
    {
      "cell_type": "code",
      "metadata": {
        "colab": {
          "base_uri": "https://localhost:8080/"
        },
        "id": "lAk_6_0B5qgx",
        "outputId": "e935c4b1-a597-45e0-e205-e48186ab81ff"
      },
      "source": [
        "ipl_df.shape"
      ],
      "execution_count": null,
      "outputs": [
        {
          "output_type": "execute_result",
          "data": {
            "text/plain": [
              "(179078, 21)"
            ]
          },
          "metadata": {
            "tags": []
          },
          "execution_count": 7
        }
      ]
    },
    {
      "cell_type": "code",
      "metadata": {
        "colab": {
          "base_uri": "https://localhost:8080/",
          "height": 713
        },
        "id": "7FK_HwI15qdt",
        "outputId": "7391bdf0-4ef7-4d1f-a776-417e13672d8f"
      },
      "source": [
        "ipl_df.head(10)"
      ],
      "execution_count": null,
      "outputs": [
        {
          "output_type": "execute_result",
          "data": {
            "text/html": [
              "<div>\n",
              "<style scoped>\n",
              "    .dataframe tbody tr th:only-of-type {\n",
              "        vertical-align: middle;\n",
              "    }\n",
              "\n",
              "    .dataframe tbody tr th {\n",
              "        vertical-align: top;\n",
              "    }\n",
              "\n",
              "    .dataframe thead th {\n",
              "        text-align: right;\n",
              "    }\n",
              "</style>\n",
              "<table border=\"1\" class=\"dataframe\">\n",
              "  <thead>\n",
              "    <tr style=\"text-align: right;\">\n",
              "      <th></th>\n",
              "      <th>match_id</th>\n",
              "      <th>inning</th>\n",
              "      <th>batting_team</th>\n",
              "      <th>bowling_team</th>\n",
              "      <th>over</th>\n",
              "      <th>ball</th>\n",
              "      <th>batsman</th>\n",
              "      <th>non_striker</th>\n",
              "      <th>bowler</th>\n",
              "      <th>is_super_over</th>\n",
              "      <th>wide_runs</th>\n",
              "      <th>bye_runs</th>\n",
              "      <th>legbye_runs</th>\n",
              "      <th>noball_runs</th>\n",
              "      <th>penalty_runs</th>\n",
              "      <th>batsman_runs</th>\n",
              "      <th>extra_runs</th>\n",
              "      <th>total_runs</th>\n",
              "      <th>player_dismissed</th>\n",
              "      <th>dismissal_kind</th>\n",
              "      <th>fielder</th>\n",
              "    </tr>\n",
              "  </thead>\n",
              "  <tbody>\n",
              "    <tr>\n",
              "      <th>0</th>\n",
              "      <td>1</td>\n",
              "      <td>1</td>\n",
              "      <td>Sunrisers Hyderabad</td>\n",
              "      <td>Royal Challengers Bangalore</td>\n",
              "      <td>1</td>\n",
              "      <td>1</td>\n",
              "      <td>DA Warner</td>\n",
              "      <td>S Dhawan</td>\n",
              "      <td>TS Mills</td>\n",
              "      <td>0</td>\n",
              "      <td>0</td>\n",
              "      <td>0</td>\n",
              "      <td>0</td>\n",
              "      <td>0</td>\n",
              "      <td>0</td>\n",
              "      <td>0</td>\n",
              "      <td>0</td>\n",
              "      <td>0</td>\n",
              "      <td>NaN</td>\n",
              "      <td>NaN</td>\n",
              "      <td>NaN</td>\n",
              "    </tr>\n",
              "    <tr>\n",
              "      <th>1</th>\n",
              "      <td>1</td>\n",
              "      <td>1</td>\n",
              "      <td>Sunrisers Hyderabad</td>\n",
              "      <td>Royal Challengers Bangalore</td>\n",
              "      <td>1</td>\n",
              "      <td>2</td>\n",
              "      <td>DA Warner</td>\n",
              "      <td>S Dhawan</td>\n",
              "      <td>TS Mills</td>\n",
              "      <td>0</td>\n",
              "      <td>0</td>\n",
              "      <td>0</td>\n",
              "      <td>0</td>\n",
              "      <td>0</td>\n",
              "      <td>0</td>\n",
              "      <td>0</td>\n",
              "      <td>0</td>\n",
              "      <td>0</td>\n",
              "      <td>NaN</td>\n",
              "      <td>NaN</td>\n",
              "      <td>NaN</td>\n",
              "    </tr>\n",
              "    <tr>\n",
              "      <th>2</th>\n",
              "      <td>1</td>\n",
              "      <td>1</td>\n",
              "      <td>Sunrisers Hyderabad</td>\n",
              "      <td>Royal Challengers Bangalore</td>\n",
              "      <td>1</td>\n",
              "      <td>3</td>\n",
              "      <td>DA Warner</td>\n",
              "      <td>S Dhawan</td>\n",
              "      <td>TS Mills</td>\n",
              "      <td>0</td>\n",
              "      <td>0</td>\n",
              "      <td>0</td>\n",
              "      <td>0</td>\n",
              "      <td>0</td>\n",
              "      <td>0</td>\n",
              "      <td>4</td>\n",
              "      <td>0</td>\n",
              "      <td>4</td>\n",
              "      <td>NaN</td>\n",
              "      <td>NaN</td>\n",
              "      <td>NaN</td>\n",
              "    </tr>\n",
              "    <tr>\n",
              "      <th>3</th>\n",
              "      <td>1</td>\n",
              "      <td>1</td>\n",
              "      <td>Sunrisers Hyderabad</td>\n",
              "      <td>Royal Challengers Bangalore</td>\n",
              "      <td>1</td>\n",
              "      <td>4</td>\n",
              "      <td>DA Warner</td>\n",
              "      <td>S Dhawan</td>\n",
              "      <td>TS Mills</td>\n",
              "      <td>0</td>\n",
              "      <td>0</td>\n",
              "      <td>0</td>\n",
              "      <td>0</td>\n",
              "      <td>0</td>\n",
              "      <td>0</td>\n",
              "      <td>0</td>\n",
              "      <td>0</td>\n",
              "      <td>0</td>\n",
              "      <td>NaN</td>\n",
              "      <td>NaN</td>\n",
              "      <td>NaN</td>\n",
              "    </tr>\n",
              "    <tr>\n",
              "      <th>4</th>\n",
              "      <td>1</td>\n",
              "      <td>1</td>\n",
              "      <td>Sunrisers Hyderabad</td>\n",
              "      <td>Royal Challengers Bangalore</td>\n",
              "      <td>1</td>\n",
              "      <td>5</td>\n",
              "      <td>DA Warner</td>\n",
              "      <td>S Dhawan</td>\n",
              "      <td>TS Mills</td>\n",
              "      <td>0</td>\n",
              "      <td>2</td>\n",
              "      <td>0</td>\n",
              "      <td>0</td>\n",
              "      <td>0</td>\n",
              "      <td>0</td>\n",
              "      <td>0</td>\n",
              "      <td>2</td>\n",
              "      <td>2</td>\n",
              "      <td>NaN</td>\n",
              "      <td>NaN</td>\n",
              "      <td>NaN</td>\n",
              "    </tr>\n",
              "    <tr>\n",
              "      <th>5</th>\n",
              "      <td>1</td>\n",
              "      <td>1</td>\n",
              "      <td>Sunrisers Hyderabad</td>\n",
              "      <td>Royal Challengers Bangalore</td>\n",
              "      <td>1</td>\n",
              "      <td>6</td>\n",
              "      <td>S Dhawan</td>\n",
              "      <td>DA Warner</td>\n",
              "      <td>TS Mills</td>\n",
              "      <td>0</td>\n",
              "      <td>0</td>\n",
              "      <td>0</td>\n",
              "      <td>0</td>\n",
              "      <td>0</td>\n",
              "      <td>0</td>\n",
              "      <td>0</td>\n",
              "      <td>0</td>\n",
              "      <td>0</td>\n",
              "      <td>NaN</td>\n",
              "      <td>NaN</td>\n",
              "      <td>NaN</td>\n",
              "    </tr>\n",
              "    <tr>\n",
              "      <th>6</th>\n",
              "      <td>1</td>\n",
              "      <td>1</td>\n",
              "      <td>Sunrisers Hyderabad</td>\n",
              "      <td>Royal Challengers Bangalore</td>\n",
              "      <td>1</td>\n",
              "      <td>7</td>\n",
              "      <td>S Dhawan</td>\n",
              "      <td>DA Warner</td>\n",
              "      <td>TS Mills</td>\n",
              "      <td>0</td>\n",
              "      <td>0</td>\n",
              "      <td>0</td>\n",
              "      <td>1</td>\n",
              "      <td>0</td>\n",
              "      <td>0</td>\n",
              "      <td>0</td>\n",
              "      <td>1</td>\n",
              "      <td>1</td>\n",
              "      <td>NaN</td>\n",
              "      <td>NaN</td>\n",
              "      <td>NaN</td>\n",
              "    </tr>\n",
              "    <tr>\n",
              "      <th>7</th>\n",
              "      <td>1</td>\n",
              "      <td>1</td>\n",
              "      <td>Sunrisers Hyderabad</td>\n",
              "      <td>Royal Challengers Bangalore</td>\n",
              "      <td>2</td>\n",
              "      <td>1</td>\n",
              "      <td>S Dhawan</td>\n",
              "      <td>DA Warner</td>\n",
              "      <td>A Choudhary</td>\n",
              "      <td>0</td>\n",
              "      <td>0</td>\n",
              "      <td>0</td>\n",
              "      <td>0</td>\n",
              "      <td>0</td>\n",
              "      <td>0</td>\n",
              "      <td>1</td>\n",
              "      <td>0</td>\n",
              "      <td>1</td>\n",
              "      <td>NaN</td>\n",
              "      <td>NaN</td>\n",
              "      <td>NaN</td>\n",
              "    </tr>\n",
              "    <tr>\n",
              "      <th>8</th>\n",
              "      <td>1</td>\n",
              "      <td>1</td>\n",
              "      <td>Sunrisers Hyderabad</td>\n",
              "      <td>Royal Challengers Bangalore</td>\n",
              "      <td>2</td>\n",
              "      <td>2</td>\n",
              "      <td>DA Warner</td>\n",
              "      <td>S Dhawan</td>\n",
              "      <td>A Choudhary</td>\n",
              "      <td>0</td>\n",
              "      <td>0</td>\n",
              "      <td>0</td>\n",
              "      <td>0</td>\n",
              "      <td>0</td>\n",
              "      <td>0</td>\n",
              "      <td>4</td>\n",
              "      <td>0</td>\n",
              "      <td>4</td>\n",
              "      <td>NaN</td>\n",
              "      <td>NaN</td>\n",
              "      <td>NaN</td>\n",
              "    </tr>\n",
              "    <tr>\n",
              "      <th>9</th>\n",
              "      <td>1</td>\n",
              "      <td>1</td>\n",
              "      <td>Sunrisers Hyderabad</td>\n",
              "      <td>Royal Challengers Bangalore</td>\n",
              "      <td>2</td>\n",
              "      <td>3</td>\n",
              "      <td>DA Warner</td>\n",
              "      <td>S Dhawan</td>\n",
              "      <td>A Choudhary</td>\n",
              "      <td>0</td>\n",
              "      <td>0</td>\n",
              "      <td>0</td>\n",
              "      <td>0</td>\n",
              "      <td>1</td>\n",
              "      <td>0</td>\n",
              "      <td>0</td>\n",
              "      <td>1</td>\n",
              "      <td>1</td>\n",
              "      <td>NaN</td>\n",
              "      <td>NaN</td>\n",
              "      <td>NaN</td>\n",
              "    </tr>\n",
              "  </tbody>\n",
              "</table>\n",
              "</div>"
            ],
            "text/plain": [
              "   match_id  inning  ... dismissal_kind fielder\n",
              "0         1       1  ...            NaN     NaN\n",
              "1         1       1  ...            NaN     NaN\n",
              "2         1       1  ...            NaN     NaN\n",
              "3         1       1  ...            NaN     NaN\n",
              "4         1       1  ...            NaN     NaN\n",
              "5         1       1  ...            NaN     NaN\n",
              "6         1       1  ...            NaN     NaN\n",
              "7         1       1  ...            NaN     NaN\n",
              "8         1       1  ...            NaN     NaN\n",
              "9         1       1  ...            NaN     NaN\n",
              "\n",
              "[10 rows x 21 columns]"
            ]
          },
          "metadata": {
            "tags": []
          },
          "execution_count": 8
        }
      ]
    },
    {
      "cell_type": "code",
      "metadata": {
        "id": "QbtNa8kMGG0p",
        "colab": {
          "base_uri": "https://localhost:8080/"
        },
        "outputId": "4c46f693-01c0-4242-d0bb-d9973b44e8ae"
      },
      "source": [
        "ipl_df.info()"
      ],
      "execution_count": null,
      "outputs": [
        {
          "output_type": "stream",
          "text": [
            "<class 'pandas.core.frame.DataFrame'>\n",
            "RangeIndex: 179078 entries, 0 to 179077\n",
            "Data columns (total 21 columns):\n",
            " #   Column            Non-Null Count   Dtype \n",
            "---  ------            --------------   ----- \n",
            " 0   match_id          179078 non-null  int64 \n",
            " 1   inning            179078 non-null  int64 \n",
            " 2   batting_team      179078 non-null  object\n",
            " 3   bowling_team      179078 non-null  object\n",
            " 4   over              179078 non-null  int64 \n",
            " 5   ball              179078 non-null  int64 \n",
            " 6   batsman           179078 non-null  object\n",
            " 7   non_striker       179078 non-null  object\n",
            " 8   bowler            179078 non-null  object\n",
            " 9   is_super_over     179078 non-null  int64 \n",
            " 10  wide_runs         179078 non-null  int64 \n",
            " 11  bye_runs          179078 non-null  int64 \n",
            " 12  legbye_runs       179078 non-null  int64 \n",
            " 13  noball_runs       179078 non-null  int64 \n",
            " 14  penalty_runs      179078 non-null  int64 \n",
            " 15  batsman_runs      179078 non-null  int64 \n",
            " 16  extra_runs        179078 non-null  int64 \n",
            " 17  total_runs        179078 non-null  int64 \n",
            " 18  player_dismissed  8834 non-null    object\n",
            " 19  dismissal_kind    8834 non-null    object\n",
            " 20  fielder           6448 non-null    object\n",
            "dtypes: int64(13), object(8)\n",
            "memory usage: 28.7+ MB\n"
          ],
          "name": "stdout"
        }
      ]
    },
    {
      "cell_type": "markdown",
      "metadata": {
        "id": "ujvuxbhlG-eN"
      },
      "source": [
        "#We don't have Null values in our data,So we can have our furter analysis without caring for Null values."
      ]
    },
    {
      "cell_type": "code",
      "metadata": {
        "colab": {
          "base_uri": "https://localhost:8080/"
        },
        "id": "BeyLsWSGK-0d",
        "outputId": "7812b17a-119e-40b3-d06f-393af44f3c48"
      },
      "source": [
        "penalty_run_count=ipl_df['penalty_runs'].value_counts()\n",
        "print(penalty_run_count)"
      ],
      "execution_count": null,
      "outputs": [
        {
          "output_type": "stream",
          "text": [
            "0    179076\n",
            "5         2\n",
            "Name: penalty_runs, dtype: int64\n"
          ],
          "name": "stdout"
        }
      ]
    },
    {
      "cell_type": "code",
      "metadata": {
        "colab": {
          "base_uri": "https://localhost:8080/"
        },
        "id": "Tio4OJ695qaW",
        "outputId": "6b261a4b-7601-456b-b429-52900d9421d5"
      },
      "source": [
        "ipl_df['batting_team'].unique()\n",
        "print(ipl_df['batting_team'].unique())\n",
        "no_of_ipl_team=len(ipl_df['batting_team'].unique())\n",
        "print(no_of_ipl_team)"
      ],
      "execution_count": null,
      "outputs": [
        {
          "output_type": "stream",
          "text": [
            "['Sunrisers Hyderabad' 'Royal Challengers Bangalore' 'Mumbai Indians'\n",
            " 'Rising Pune Supergiant' 'Gujarat Lions' 'Kolkata Knight Riders'\n",
            " 'Kings XI Punjab' 'Delhi Daredevils' 'Chennai Super Kings'\n",
            " 'Rajasthan Royals' 'Deccan Chargers' 'Kochi Tuskers Kerala'\n",
            " 'Pune Warriors' 'Rising Pune Supergiants' 'Delhi Capitals']\n",
            "15\n"
          ],
          "name": "stdout"
        }
      ]
    },
    {
      "cell_type": "code",
      "metadata": {
        "colab": {
          "base_uri": "https://localhost:8080/",
          "height": 297
        },
        "id": "7NOxXcagSyIn",
        "outputId": "5e85ac08-6c93-4bfe-fa30-216e8bb90326"
      },
      "source": [
        "\n",
        "inning=ipl_df['inning'].value_counts()\n",
        "a=dict(inning)\n",
        "innings=list(a.keys())\n",
        "inning_deliveries=list(a.values())\n",
        "plt.bar(innings,inning_deliveries)\n",
        "plt.title('Deliveries Bowled in each inning',fontsize=15,color='red')\n",
        "plt.xlabel('Innings')\n",
        "plt.ylabel('Deliveries Bowled')\n",
        "plt.show()"
      ],
      "execution_count": null,
      "outputs": [
        {
          "output_type": "display_data",
          "data": {
            "image/png": "[encoded data removed]",
            "text/plain": [
              "<Figure size 432x288 with 1 Axes>"
            ]
          },
          "metadata": {
            "tags": [],
            "needs_background": "light"
          }
        }
      ]
    },
    {
      "cell_type": "markdown",
      "metadata": {
        "id": "0kxVOtf7Xs8s"
      },
      "source": [
        " 3 and 4 innings can correspond to super overs."
      ]
    },
    {
      "cell_type": "code",
      "metadata": {
        "id": "hBes5BlWjS34"
      },
      "source": [
        ""
      ],
      "execution_count": null,
      "outputs": []
    },
    {
      "cell_type": "code",
      "metadata": {
        "colab": {
          "base_uri": "https://localhost:8080/"
        },
        "id": "gohDcf3JYPKy",
        "outputId": "3d2c5617-e5cb-4e74-ebdd-17539f6ed81c"
      },
      "source": [
        "deleveries=ipl_df['ball'].value_counts()     #It gets the number of balls in over including the extra deleveries. \n",
        "print(deleveries)\n",
        "deleveris_list=list(deleveries)           #Converting it into list provides easy option to count the legal deliveries\n",
        "print(deleveris_list)\n",
        "legal_deliveries=sum(deleveris_list[0:6])   # here we count the legal deleviries from 0 to 6 balls and eliminate the extra deliveries bowled\n",
        "print(legal_deliveries)\n",
        "extra_deleveries=sum(deleveris_list[6:])     # counting how many extra balls bowled\n",
        "print(extra_deleveries)\n",
        "wide_deliveries_list = list(ipl_df['wide_runs'].value_counts())\n",
        "print(wide_deliveries_list)\n",
        "no_of_wide_ball_bowled=sum(wide_deliveries_list[1:])   #counting the wide deliveries bowled\n",
        "print(no_of_wide_ball_bowled)\n",
        "no_ball_list = list(ipl_df['noball_runs'].value_counts())\n",
        "print(no_ball_list)\n",
        "no_of_no_ball_bowled=sum(no_ball_list[1:])   #counting the no ball deliveries bowled\n",
        "print(no_of_no_ball_bowled)"
      ],
      "execution_count": null,
      "outputs": [
        {
          "output_type": "stream",
          "text": [
            "1    29047\n",
            "2    28963\n",
            "3    28878\n",
            "4    28812\n",
            "5    28720\n",
            "6    28628\n",
            "7     5113\n",
            "8      795\n",
            "9      122\n",
            "Name: ball, dtype: int64\n",
            "[29047, 28963, 28878, 28812, 28720, 28628, 5113, 795, 122]\n",
            "173048\n",
            "6030\n",
            "[173673, 4915, 230, 208, 47, 5]\n",
            "5405\n",
            "[178364, 698, 9, 6, 1]\n",
            "714\n"
          ],
          "name": "stdout"
        }
      ]
    },
    {
      "cell_type": "code",
      "metadata": {
        "colab": {
          "base_uri": "https://localhost:8080/",
          "height": 526
        },
        "id": "GXqAlgWjqJGi",
        "outputId": "adec7cef-b074-4c74-aeb7-e8740a57f069"
      },
      "source": [
        "deliveries_distribution =ipl_df['batsman_runs'].value_counts()\n",
        "deliveries_distribution.plot.bar(figsize=(15,8),color='brown')\n",
        "plt.title('Deliveries Distribution according to Run scored')\n",
        "plt.ylabel('Deliveries Count')\n",
        "plt.xlabel('Run Count')"
      ],
      "execution_count": null,
      "outputs": [
        {
          "output_type": "execute_result",
          "data": {
            "text/plain": [
              "Text(0.5, 0, 'Run Count')"
            ]
          },
          "metadata": {
            "tags": []
          },
          "execution_count": 12
        },
        {
          "output_type": "display_data",
          "data": {
            "image/png": "[encoded data removed]",
            "text/plain": [
              "<Figure size 1080x576 with 1 Axes>"
            ]
          },
          "metadata": {
            "tags": [],
            "needs_background": "light"
          }
        }
      ]
    },
    {
      "cell_type": "code",
      "metadata": {
        "colab": {
          "base_uri": "https://localhost:8080/",
          "height": 804
        },
        "id": "OAGwM7ubDug5",
        "outputId": "4ad7dff6-fce6-4b8d-89f7-b273607650fd"
      },
      "source": [
        "deliveries_type= ['Normal deliveries','Wicket Deliveries','no_of_wide_ball_bowled','no_of_no_ball_bowled']\n",
        "deliveries_count=[164214,8834,5405,714]\n",
        "fig=plt.figure(figsize=(15,10.5))\n",
        "colors=('grey','red','pink','blue')\n",
        "plt.pie(deliveries_count,labels=deliveries_type,colors=colors,autopct='%1.2f%%')\n",
        "\n"
      ],
      "execution_count": null,
      "outputs": [
        {
          "output_type": "execute_result",
          "data": {
            "text/plain": [
              "([<matplotlib.patches.Wedge at 0x7f3c534ce350>,\n",
              "  <matplotlib.patches.Wedge at 0x7f3c53478190>,\n",
              "  <matplotlib.patches.Wedge at 0x7f3c5364c790>,\n",
              "  <matplotlib.patches.Wedge at 0x7f3c534a4690>],\n",
              " [Text(-1.0624064443253733, 0.28511847898008563, 'Normal deliveries'),\n",
              "  Text(1.0257645923215888, -0.3972492934409384, 'Wicket Deliveries'),\n",
              "  Text(1.0921141494541595, -0.1314788369359036, 'no_of_wide_ball_bowled'),\n",
              "  Text(1.099913796167528, -0.013771020308529867, 'no_of_no_ball_bowled')],\n",
              " [Text(-0.5794944241774763, 0.15551917035277396, '91.65%'),\n",
              "  Text(0.5595079594481392, -0.21668143278596638, '4.93%'),\n",
              "  Text(0.595698626974996, -0.07171572923776558, '3.02%'),\n",
              "  Text(0.5999529797277424, -0.007511465622834472, '0.40%')])"
            ]
          },
          "metadata": {
            "tags": []
          },
          "execution_count": 14
        },
        {
          "output_type": "display_data",
          "data": {
            "image/png": "[encoded data removed]",
            "text/plain": [
              "<Figure size 1080x756 with 1 Axes>"
            ]
          },
          "metadata": {
            "tags": []
          }
        }
      ]
    },
    {
      "cell_type": "code",
      "metadata": {
        "colab": {
          "base_uri": "https://localhost:8080/"
        },
        "id": "IffEJ78_5qOZ",
        "outputId": "0ea857fb-b7a0-4f9a-8be0-18f0a3c0da78"
      },
      "source": [
        "super_over= ipl_df[(ipl_df['is_super_over']==1)&(ipl_df['ball']<=6)]\n",
        "print(super_over)"
      ],
      "execution_count": null,
      "outputs": [
        {
          "output_type": "stream",
          "text": [
            "        match_id  inning  ... dismissal_kind       fielder\n",
            "8092          34       3  ...            NaN           NaN\n",
            "8093          34       3  ...            NaN           NaN\n",
            "8094          34       3  ...            NaN           NaN\n",
            "8095          34       3  ...         caught      AJ Finch\n",
            "8096          34       3  ...         caught  Ishan Kishan\n",
            "...          ...     ...  ...            ...           ...\n",
            "127364       536       3  ...            NaN           NaN\n",
            "127366       536       4  ...         bowled           NaN\n",
            "127367       536       4  ...            NaN           NaN\n",
            "127368       536       4  ...            NaN           NaN\n",
            "127369       536       4  ...        run out           NaN\n",
            "\n",
            "[76 rows x 21 columns]\n"
          ],
          "name": "stdout"
        }
      ]
    },
    {
      "cell_type": "code",
      "metadata": {
        "id": "W5c56ccZ5qB_"
      },
      "source": [
        ""
      ],
      "execution_count": null,
      "outputs": []
    },
    {
      "cell_type": "code",
      "metadata": {
        "colab": {
          "base_uri": "https://localhost:8080/",
          "height": 295
        },
        "id": "m6AtSIGQCwgo",
        "outputId": "bca3a27c-c0eb-431c-8232-7a73d508d48a"
      },
      "source": [
        "batsmen_played_deliveries=ipl_df['batsman'].value_counts()\n",
        "batsmen_played_deliveries.head(10)\n",
        "bowlers_ball_count=ipl_df['bowler'].value_counts()\n",
        "top_ball_throwing_bowlers=bowlers_ball_count.head(10)\n",
        "top_ball_throwing_bowlers_dict=dict(top_ball_throwing_bowlers)\n",
        "#Bowlers thrown maximum deliveris\n",
        "bowler_name=list(top_ball_throwing_bowlers_dict.keys())\n",
        "deliveries_bowled=list(top_ball_throwing_bowlers_dict.values())\n",
        "plt.barh(bowler_name,deliveries_bowled)\n",
        "plt.title('Deliveries Bowled by bowler')\n",
        "plt.ylabel('Name of Bowler')\n",
        "plt.xlabel('Deliveries Bowled')\n",
        "plt.show()"
      ],
      "execution_count": null,
      "outputs": [
        {
          "output_type": "display_data",
          "data": {
            "image/png": "[encoded data removed]",
            "text/plain": [
              "<Figure size 432x288 with 1 Axes>"
            ]
          },
          "metadata": {
            "tags": [],
            "needs_background": "light"
          }
        }
      ]
    },
    {
      "cell_type": "code",
      "metadata": {
        "colab": {
          "base_uri": "https://localhost:8080/"
        },
        "id": "xAKHSFAt5nq7",
        "outputId": "beb5656b-12f0-421c-c687-7f23d2d93c3a"
      },
      "source": [
        "wickets_df=ipl_df['player_dismissed'].value_counts()\n",
        "print(wickets_df)\n",
        "total_wicket_taking_deliveries=wickets_df.sum()\n",
        "print(total_wicket_taking_deliveries)"
      ],
      "execution_count": null,
      "outputs": [
        {
          "output_type": "stream",
          "text": [
            "SK Raina             162\n",
            "RG Sharma            155\n",
            "RV Uthappa           153\n",
            "V Kohli              143\n",
            "S Dhawan             137\n",
            "                    ... \n",
            "Mohammad Ashraful      1\n",
            "GR Napier              1\n",
            "L Plunkett             1\n",
            "FH Edwards             1\n",
            "Y Gnaneswara Rao       1\n",
            "Name: player_dismissed, Length: 487, dtype: int64\n",
            "8834\n"
          ],
          "name": "stdout"
        }
      ]
    },
    {
      "cell_type": "code",
      "metadata": {
        "colab": {
          "base_uri": "https://localhost:8080/",
          "height": 300
        },
        "id": "HsSvonsEgV2z",
        "outputId": "8d8bfa00-dada-4434-dd21-6384a33eb778"
      },
      "source": [
        "#Top 10 batsmen who faced most balls\n",
        "players_who_got_out_most_time=dict(wickets_df.head(10))\n",
        "player_name=list(players_who_got_out_most_time.keys())\n",
        "no_of_times_player_got_out=list(players_who_got_out_most_time.values())\n",
        "plt.barh(player_name,no_of_times_player_got_out,color='green')\n",
        "plt.title('Players who got out Most of the time',fontsize=20,color='blue')\n",
        "plt.ylabel('Name of player',color='red')\n",
        "plt.xlabel('Number of Times they got Out',color='red')\n",
        "plt.show()"
      ],
      "execution_count": null,
      "outputs": [
        {
          "output_type": "display_data",
          "data": {
            "image/png": "[encoded data removed]",
            "text/plain": [
              "<Figure size 432x288 with 1 Axes>"
            ]
          },
          "metadata": {
            "tags": [],
            "needs_background": "light"
          }
        }
      ]
    },
    {
      "cell_type": "code",
      "metadata": {
        "id": "nG_kygbO5oGa"
      },
      "source": [
        ""
      ],
      "execution_count": null,
      "outputs": []
    },
    {
      "cell_type": "code",
      "metadata": {
        "colab": {
          "base_uri": "https://localhost:8080/",
          "height": 535
        },
        "id": "y9GOzJPb5okL",
        "outputId": "565efd63-7dea-454d-8060-ca423386e761"
      },
      "source": [
        "#Most wicket taking Bowlers in IPL\n",
        "bowler_df=ipl_df.groupby('bowler')['player_dismissed'].count()\n",
        "top_wicket_taking_bowler=bowler_df.sort_values(ascending=False).head(10)\n",
        "top_wicket_taking_bowler.plot(figsize=(15,8))\n",
        "plt.xlabel(\"Name of Bowler\",color='green')\n",
        "plt.ylabel(\"Number of Wickets Taken\",color='green')\n",
        "plt.title('Most Wicket Taking Bowlers in IPL',color='red',fontsize=20)"
      ],
      "execution_count": null,
      "outputs": [
        {
          "output_type": "execute_result",
          "data": {
            "text/plain": [
              "Text(0.5, 1.0, 'Most Wicket Taking Bowlers in IPL')"
            ]
          },
          "metadata": {
            "tags": []
          },
          "execution_count": 19
        },
        {
          "output_type": "display_data",
          "data": {
            "image/png": "[encoded data removed]",
            "text/plain": [
              "<Figure size 1080x576 with 1 Axes>"
            ]
          },
          "metadata": {
            "tags": [],
            "needs_background": "light"
          }
        }
      ]
    },
    {
      "cell_type": "code",
      "metadata": {
        "id": "Mokvm7eA5o73",
        "colab": {
          "base_uri": "https://localhost:8080/",
          "height": 1000
        },
        "outputId": "11256853-cb1e-4c80-bdab-76226edbd33b"
      },
      "source": [
        "# Bowling Average\n",
        "bowler_df1=ipl_df.groupby('bowler')['total_runs'].sum()\n",
        "print(bowler_df1)\n",
        "bowling_avg = (bowler_df1/bowler_df).sort_values()\n",
        "print(bowling_avg)              # We  will get infinite value for those who bowled some overs but didn't get any wickets.\n",
        "bowling_avg.head(35).plot(kind='bar',figsize=(22,8))\n",
        "plt.ylabel(' Average',fontsize=20,color='black')\n",
        "plt.title('Bowling Average',fontsize=30,color='red')"
      ],
      "execution_count": null,
      "outputs": [
        {
          "output_type": "stream",
          "text": [
            "bowler\n",
            "A Ashish Reddy     400\n",
            "A Chandila         245\n",
            "A Choudhary        144\n",
            "A Dananjaya         48\n",
            "A Flintoff         106\n",
            "                  ... \n",
            "YA Abdulla         311\n",
            "YK Pathan         1443\n",
            "YS Chahal         2416\n",
            "Yuvraj Singh      1092\n",
            "Z Khan            2860\n",
            "Name: total_runs, Length: 405, dtype: int64\n",
            "bowler\n",
            "AC Gilchrist     0.000000\n",
            "Sachin Baby      2.666667\n",
            "AM Rahane        5.000000\n",
            "LA Carseldine    6.000000\n",
            "SS Mundhe        6.000000\n",
            "                   ...   \n",
            "Mandeep Singh         inf\n",
            "S Dube                inf\n",
            "C Ganapathy           inf\n",
            "L Livingstone         inf\n",
            "NJ Rimmington         inf\n",
            "Length: 405, dtype: float64\n"
          ],
          "name": "stdout"
        },
        {
          "output_type": "execute_result",
          "data": {
            "text/plain": [
              "Text(0.5, 1.0, 'Bowling Average')"
            ]
          },
          "metadata": {
            "tags": []
          },
          "execution_count": 20
        },
        {
          "output_type": "display_data",
          "data": {
            "image/png": "[encoded data removed]",
            "text/plain": [
              "<Figure size 1584x576 with 1 Axes>"
            ]
          },
          "metadata": {
            "tags": [],
            "needs_background": "light"
          }
        }
      ]
    },
    {
      "cell_type": "code",
      "metadata": {
        "id": "7zV1fzqY5pSt",
        "colab": {
          "base_uri": "https://localhost:8080/",
          "height": 282
        },
        "outputId": "0635314e-f825-4fc4-8f47-43b17cf54e8a"
      },
      "source": [
        "plt.scatter(bowler_df,bowling_avg)\n",
        "plt.figure(figsize=(15,8), dpi=150)"
      ],
      "execution_count": null,
      "outputs": [
        {
          "output_type": "display_data",
          "data": {
            "image/png": "[encoded data removed]",
            "text/plain": [
              "<Figure size 432x288 with 1 Axes>"
            ]
          },
          "metadata": {
            "tags": [],
            "needs_background": "light"
          }
        },
        {
          "output_type": "display_data",
          "data": {
            "text/plain": [
              "<Figure size 2250x1200 with 0 Axes>"
            ]
          },
          "metadata": {
            "tags": []
          }
        }
      ]
    },
    {
      "cell_type": "code",
      "metadata": {
        "id": "7LILPqAggJip"
      },
      "source": [
        ""
      ],
      "execution_count": null,
      "outputs": []
    },
    {
      "cell_type": "code",
      "metadata": {
        "id": "Bm2rg1dU5pmx"
      },
      "source": [
        "matches_file_path='/content/drive/MyDrive/1st capstone project data/'\n",
        "ipl_match_df = pd.read_csv(matches_file_path +'matches.csv')"
      ],
      "execution_count": null,
      "outputs": []
    },
    {
      "cell_type": "code",
      "metadata": {
        "colab": {
          "base_uri": "https://localhost:8080/",
          "height": 823
        },
        "id": "gJnVezkd2vhv",
        "outputId": "5bd0abe9-c618-4d54-c216-c11938d8ecdd"
      },
      "source": [
        "ipl_match_df.head(-5)"
      ],
      "execution_count": null,
      "outputs": [
        {
          "output_type": "execute_result",
          "data": {
            "text/html": [
              "<div>\n",
              "<style scoped>\n",
              "    .dataframe tbody tr th:only-of-type {\n",
              "        vertical-align: middle;\n",
              "    }\n",
              "\n",
              "    .dataframe tbody tr th {\n",
              "        vertical-align: top;\n",
              "    }\n",
              "\n",
              "    .dataframe thead th {\n",
              "        text-align: right;\n",
              "    }\n",
              "</style>\n",
              "<table border=\"1\" class=\"dataframe\">\n",
              "  <thead>\n",
              "    <tr style=\"text-align: right;\">\n",
              "      <th></th>\n",
              "      <th>id</th>\n",
              "      <th>Season</th>\n",
              "      <th>city</th>\n",
              "      <th>date</th>\n",
              "      <th>team1</th>\n",
              "      <th>team2</th>\n",
              "      <th>toss_winner</th>\n",
              "      <th>toss_decision</th>\n",
              "      <th>result</th>\n",
              "      <th>dl_applied</th>\n",
              "      <th>winner</th>\n",
              "      <th>win_by_runs</th>\n",
              "      <th>win_by_wickets</th>\n",
              "      <th>player_of_match</th>\n",
              "      <th>venue</th>\n",
              "      <th>umpire1</th>\n",
              "      <th>umpire2</th>\n",
              "      <th>umpire3</th>\n",
              "    </tr>\n",
              "  </thead>\n",
              "  <tbody>\n",
              "    <tr>\n",
              "      <th>0</th>\n",
              "      <td>1</td>\n",
              "      <td>IPL-2017</td>\n",
              "      <td>Hyderabad</td>\n",
              "      <td>05-04-2017</td>\n",
              "      <td>Sunrisers Hyderabad</td>\n",
              "      <td>Royal Challengers Bangalore</td>\n",
              "      <td>Royal Challengers Bangalore</td>\n",
              "      <td>field</td>\n",
              "      <td>normal</td>\n",
              "      <td>0</td>\n",
              "      <td>Sunrisers Hyderabad</td>\n",
              "      <td>35</td>\n",
              "      <td>0</td>\n",
              "      <td>Yuvraj Singh</td>\n",
              "      <td>Rajiv Gandhi International Stadium, Uppal</td>\n",
              "      <td>AY Dandekar</td>\n",
              "      <td>NJ Llong</td>\n",
              "      <td>NaN</td>\n",
              "    </tr>\n",
              "    <tr>\n",
              "      <th>1</th>\n",
              "      <td>2</td>\n",
              "      <td>IPL-2017</td>\n",
              "      <td>Pune</td>\n",
              "      <td>06-04-2017</td>\n",
              "      <td>Mumbai Indians</td>\n",
              "      <td>Rising Pune Supergiant</td>\n",
              "      <td>Rising Pune Supergiant</td>\n",
              "      <td>field</td>\n",
              "      <td>normal</td>\n",
              "      <td>0</td>\n",
              "      <td>Rising Pune Supergiant</td>\n",
              "      <td>0</td>\n",
              "      <td>7</td>\n",
              "      <td>SPD Smith</td>\n",
              "      <td>Maharashtra Cricket Association Stadium</td>\n",
              "      <td>A Nand Kishore</td>\n",
              "      <td>S Ravi</td>\n",
              "      <td>NaN</td>\n",
              "    </tr>\n",
              "    <tr>\n",
              "      <th>2</th>\n",
              "      <td>3</td>\n",
              "      <td>IPL-2017</td>\n",
              "      <td>Rajkot</td>\n",
              "      <td>07-04-2017</td>\n",
              "      <td>Gujarat Lions</td>\n",
              "      <td>Kolkata Knight Riders</td>\n",
              "      <td>Kolkata Knight Riders</td>\n",
              "      <td>field</td>\n",
              "      <td>normal</td>\n",
              "      <td>0</td>\n",
              "      <td>Kolkata Knight Riders</td>\n",
              "      <td>0</td>\n",
              "      <td>10</td>\n",
              "      <td>CA Lynn</td>\n",
              "      <td>Saurashtra Cricket Association Stadium</td>\n",
              "      <td>Nitin Menon</td>\n",
              "      <td>CK Nandan</td>\n",
              "      <td>NaN</td>\n",
              "    </tr>\n",
              "    <tr>\n",
              "      <th>3</th>\n",
              "      <td>4</td>\n",
              "      <td>IPL-2017</td>\n",
              "      <td>Indore</td>\n",
              "      <td>08-04-2017</td>\n",
              "      <td>Rising Pune Supergiant</td>\n",
              "      <td>Kings XI Punjab</td>\n",
              "      <td>Kings XI Punjab</td>\n",
              "      <td>field</td>\n",
              "      <td>normal</td>\n",
              "      <td>0</td>\n",
              "      <td>Kings XI Punjab</td>\n",
              "      <td>0</td>\n",
              "      <td>6</td>\n",
              "      <td>GJ Maxwell</td>\n",
              "      <td>Holkar Cricket Stadium</td>\n",
              "      <td>AK Chaudhary</td>\n",
              "      <td>C Shamshuddin</td>\n",
              "      <td>NaN</td>\n",
              "    </tr>\n",
              "    <tr>\n",
              "      <th>4</th>\n",
              "      <td>5</td>\n",
              "      <td>IPL-2017</td>\n",
              "      <td>Bangalore</td>\n",
              "      <td>08-04-2017</td>\n",
              "      <td>Royal Challengers Bangalore</td>\n",
              "      <td>Delhi Daredevils</td>\n",
              "      <td>Royal Challengers Bangalore</td>\n",
              "      <td>bat</td>\n",
              "      <td>normal</td>\n",
              "      <td>0</td>\n",
              "      <td>Royal Challengers Bangalore</td>\n",
              "      <td>15</td>\n",
              "      <td>0</td>\n",
              "      <td>KM Jadhav</td>\n",
              "      <td>M Chinnaswamy Stadium</td>\n",
              "      <td>NaN</td>\n",
              "      <td>NaN</td>\n",
              "      <td>NaN</td>\n",
              "    </tr>\n",
              "    <tr>\n",
              "      <th>...</th>\n",
              "      <td>...</td>\n",
              "      <td>...</td>\n",
              "      <td>...</td>\n",
              "      <td>...</td>\n",
              "      <td>...</td>\n",
              "      <td>...</td>\n",
              "      <td>...</td>\n",
              "      <td>...</td>\n",
              "      <td>...</td>\n",
              "      <td>...</td>\n",
              "      <td>...</td>\n",
              "      <td>...</td>\n",
              "      <td>...</td>\n",
              "      <td>...</td>\n",
              "      <td>...</td>\n",
              "      <td>...</td>\n",
              "      <td>...</td>\n",
              "      <td>...</td>\n",
              "    </tr>\n",
              "    <tr>\n",
              "      <th>746</th>\n",
              "      <td>11342</td>\n",
              "      <td>IPL-2019</td>\n",
              "      <td>Mumbai</td>\n",
              "      <td>02-05-2019</td>\n",
              "      <td>Mumbai Indians</td>\n",
              "      <td>Sunrisers Hyderabad</td>\n",
              "      <td>Mumbai Indians</td>\n",
              "      <td>bat</td>\n",
              "      <td>tie</td>\n",
              "      <td>0</td>\n",
              "      <td>Mumbai Indians</td>\n",
              "      <td>0</td>\n",
              "      <td>0</td>\n",
              "      <td>JJ Bumrah</td>\n",
              "      <td>Wankhede Stadium</td>\n",
              "      <td>S Ravi</td>\n",
              "      <td>O Nandan</td>\n",
              "      <td>Nanda Kishore</td>\n",
              "    </tr>\n",
              "    <tr>\n",
              "      <th>747</th>\n",
              "      <td>11343</td>\n",
              "      <td>IPL-2019</td>\n",
              "      <td>Mohali</td>\n",
              "      <td>03-05-2019</td>\n",
              "      <td>Kings XI Punjab</td>\n",
              "      <td>Kolkata Knight Riders</td>\n",
              "      <td>Kolkata Knight Riders</td>\n",
              "      <td>field</td>\n",
              "      <td>normal</td>\n",
              "      <td>0</td>\n",
              "      <td>Kolkata Knight Riders</td>\n",
              "      <td>0</td>\n",
              "      <td>7</td>\n",
              "      <td>S Gill</td>\n",
              "      <td>IS Bindra Stadium</td>\n",
              "      <td>Bruce Oxenford</td>\n",
              "      <td>C Shamshuddin</td>\n",
              "      <td>KN Ananthapadmanabhan</td>\n",
              "    </tr>\n",
              "    <tr>\n",
              "      <th>748</th>\n",
              "      <td>11344</td>\n",
              "      <td>IPL-2019</td>\n",
              "      <td>Delhi</td>\n",
              "      <td>04-05-2019</td>\n",
              "      <td>Rajasthan Royals</td>\n",
              "      <td>Delhi Capitals</td>\n",
              "      <td>Rajasthan Royals</td>\n",
              "      <td>bat</td>\n",
              "      <td>normal</td>\n",
              "      <td>0</td>\n",
              "      <td>Delhi Capitals</td>\n",
              "      <td>0</td>\n",
              "      <td>5</td>\n",
              "      <td>A Mishra</td>\n",
              "      <td>Feroz Shah Kotla Ground</td>\n",
              "      <td>Ian Gould</td>\n",
              "      <td>Anil Dandekar</td>\n",
              "      <td>Nitin Menon</td>\n",
              "    </tr>\n",
              "    <tr>\n",
              "      <th>749</th>\n",
              "      <td>11345</td>\n",
              "      <td>IPL-2019</td>\n",
              "      <td>Bengaluru</td>\n",
              "      <td>04-05-2019</td>\n",
              "      <td>Sunrisers Hyderabad</td>\n",
              "      <td>Royal Challengers Bangalore</td>\n",
              "      <td>Royal Challengers Bangalore</td>\n",
              "      <td>field</td>\n",
              "      <td>normal</td>\n",
              "      <td>0</td>\n",
              "      <td>Royal Challengers Bangalore</td>\n",
              "      <td>0</td>\n",
              "      <td>4</td>\n",
              "      <td>S Hetmyer</td>\n",
              "      <td>M. Chinnaswamy Stadium</td>\n",
              "      <td>Nigel Llong</td>\n",
              "      <td>Anil Chaudhary</td>\n",
              "      <td>Ulhas Gandhe</td>\n",
              "    </tr>\n",
              "    <tr>\n",
              "      <th>750</th>\n",
              "      <td>11346</td>\n",
              "      <td>IPL-2019</td>\n",
              "      <td>Mohali</td>\n",
              "      <td>05-05-2019</td>\n",
              "      <td>Chennai Super Kings</td>\n",
              "      <td>Kings XI Punjab</td>\n",
              "      <td>Kings XI Punjab</td>\n",
              "      <td>field</td>\n",
              "      <td>normal</td>\n",
              "      <td>0</td>\n",
              "      <td>Kings XI Punjab</td>\n",
              "      <td>0</td>\n",
              "      <td>6</td>\n",
              "      <td>KL Rahul</td>\n",
              "      <td>IS Bindra Stadium</td>\n",
              "      <td>KN Ananthapadmanabhan</td>\n",
              "      <td>C Shamshuddin</td>\n",
              "      <td>Bruce Oxenford</td>\n",
              "    </tr>\n",
              "  </tbody>\n",
              "</table>\n",
              "<p>751 rows × 18 columns</p>\n",
              "</div>"
            ],
            "text/plain": [
              "        id    Season  ...         umpire2                umpire3\n",
              "0        1  IPL-2017  ...        NJ Llong                    NaN\n",
              "1        2  IPL-2017  ...          S Ravi                    NaN\n",
              "2        3  IPL-2017  ...       CK Nandan                    NaN\n",
              "3        4  IPL-2017  ...   C Shamshuddin                    NaN\n",
              "4        5  IPL-2017  ...             NaN                    NaN\n",
              "..     ...       ...  ...             ...                    ...\n",
              "746  11342  IPL-2019  ...        O Nandan          Nanda Kishore\n",
              "747  11343  IPL-2019  ...   C Shamshuddin  KN Ananthapadmanabhan\n",
              "748  11344  IPL-2019  ...   Anil Dandekar            Nitin Menon\n",
              "749  11345  IPL-2019  ...  Anil Chaudhary           Ulhas Gandhe\n",
              "750  11346  IPL-2019  ...   C Shamshuddin         Bruce Oxenford\n",
              "\n",
              "[751 rows x 18 columns]"
            ]
          },
          "metadata": {
            "tags": []
          },
          "execution_count": 12
        }
      ]
    },
    {
      "cell_type": "code",
      "metadata": {
        "colab": {
          "base_uri": "https://localhost:8080/"
        },
        "id": "X_Loe9x0Jgjy",
        "outputId": "9493e797-b375-4bbe-edc3-e934540b1007"
      },
      "source": [
        "ipl_match_df.info()"
      ],
      "execution_count": null,
      "outputs": [
        {
          "output_type": "stream",
          "text": [
            "<class 'pandas.core.frame.DataFrame'>\n",
            "RangeIndex: 756 entries, 0 to 755\n",
            "Data columns (total 18 columns):\n",
            " #   Column           Non-Null Count  Dtype \n",
            "---  ------           --------------  ----- \n",
            " 0   id               756 non-null    int64 \n",
            " 1   Season           756 non-null    object\n",
            " 2   city             749 non-null    object\n",
            " 3   date             756 non-null    object\n",
            " 4   team1            756 non-null    object\n",
            " 5   team2            756 non-null    object\n",
            " 6   toss_winner      756 non-null    object\n",
            " 7   toss_decision    756 non-null    object\n",
            " 8   result           756 non-null    object\n",
            " 9   dl_applied       756 non-null    int64 \n",
            " 10  winner           752 non-null    object\n",
            " 11  win_by_runs      756 non-null    int64 \n",
            " 12  win_by_wickets   756 non-null    int64 \n",
            " 13  player_of_match  752 non-null    object\n",
            " 14  venue            756 non-null    object\n",
            " 15  umpire1          754 non-null    object\n",
            " 16  umpire2          754 non-null    object\n",
            " 17  umpire3          119 non-null    object\n",
            "dtypes: int64(4), object(14)\n",
            "memory usage: 106.4+ KB\n"
          ],
          "name": "stdout"
        }
      ]
    },
    {
      "cell_type": "markdown",
      "metadata": {
        "id": "jL_3WgVYJ3ch"
      },
      "source": [
        "# We have no null values here"
      ]
    },
    {
      "cell_type": "code",
      "metadata": {
        "colab": {
          "base_uri": "https://localhost:8080/",
          "height": 728
        },
        "id": "X5dcFiSY2veN",
        "outputId": "34502781-94e2-44ac-cdc1-3be49c8c2c8b"
      },
      "source": [
        "toss_decision_type =['Field','Bat']\n",
        "toss_decison=list(ipl_match_df['toss_decision'].value_counts())\n",
        "fig=plt.figure(figsize=(15,10.5))\n",
        "plt.title('Toss decisions',fontsize=25)\n",
        "plt.pie(toss_decison,labels=toss_decision_type,autopct='%1.2f%%')"
      ],
      "execution_count": null,
      "outputs": [
        {
          "output_type": "execute_result",
          "data": {
            "text/plain": [
              "([<matplotlib.patches.Wedge at 0x7f3c52629050>,\n",
              "  <matplotlib.patches.Wedge at 0x7f3c52629810>],\n",
              " [Text(-0.3805142883934777, 1.032089567977705, 'Field'),\n",
              "  Text(0.3805142883934778, -1.032089567977705, 'Bat')],\n",
              " [Text(-0.20755324821462415, 0.5629579461696571, '61.24%'),\n",
              "  Text(0.20755324821462423, -0.5629579461696571, '38.76%')])"
            ]
          },
          "metadata": {
            "tags": []
          },
          "execution_count": 24
        },
        {
          "output_type": "display_data",
          "data": {
            "image/png": "[encoded data removed]",
            "text/plain": [
              "<Figure size 1080x756 with 1 Axes>"
            ]
          },
          "metadata": {
            "tags": []
          }
        }
      ]
    },
    {
      "cell_type": "code",
      "metadata": {
        "id": "78IyFmEBsYSJ"
      },
      "source": [
        ""
      ],
      "execution_count": null,
      "outputs": []
    },
    {
      "cell_type": "code",
      "metadata": {
        "id": "wDVxH3Cd2vbl"
      },
      "source": [
        "\n"
      ],
      "execution_count": null,
      "outputs": []
    },
    {
      "cell_type": "code",
      "metadata": {
        "colab": {
          "base_uri": "https://localhost:8080/"
        },
        "id": "mLT35OJZ2vYB",
        "outputId": "86e36a8e-d638-4c2f-a074-992ee3335ec0"
      },
      "source": [
        "#test\n",
        "data_df=ipl_match_df.groupby('team1').agg\n",
        "print(data_df)"
      ],
      "execution_count": null,
      "outputs": [
        {
          "output_type": "stream",
          "text": [
            "<pandas.core.groupby.generic.DataFrameGroupBy object at 0x7eff18b9f950>\n"
          ],
          "name": "stdout"
        }
      ]
    },
    {
      "cell_type": "code",
      "metadata": {
        "colab": {
          "base_uri": "https://localhost:8080/",
          "height": 625
        },
        "id": "cydluOG42vVO",
        "outputId": "3f2b8e0a-e44f-4726-89cf-32b860aee8d5"
      },
      "source": [
        "#Winning percetage after choosing Field or Bat in toss decision\n",
        "Counts_of_toss_decsion =list(ipl_match_df['toss_decision'].value_counts())\n",
        "print(Counts_of_toss_decsion)\n",
        "toss_decision=list(ipl_match_df['toss_decision'])\n",
        "print(toss_decision)\n",
        "team_winning_toss=list(ipl_match_df['toss_winner'])\n",
        "print(team_winning_toss)\n",
        "winner=list(ipl_match_df['winner'])\n",
        "field_count=0\n",
        "print(winner)\n",
        "i=0\n",
        "bat_count=0\n",
        "j=0\n",
        "while i<len(toss_decision):\n",
        " if toss_decision[i]=='field':\n",
        "  if team_winning_toss[i]==winner[i]:\n",
        "   i=i+1\n",
        "   field_count=field_count+1\n",
        "  else:\n",
        "   i=i+1\n",
        " else:\n",
        "  i=i+1\n",
        "while j<len(toss_decision):\n",
        " if toss_decision[j]=='bat':\n",
        "  if team_winning_toss[j]==winner[j]:\n",
        "   j=j+1\n",
        "   bat_count=bat_count+1\n",
        "  else:\n",
        "   j=j+1\n",
        " else:\n",
        "  j=j+1\n",
        "\n",
        "print(field_count)\n",
        "print(bat_count)\n",
        "\n",
        "plt.figure(figsize=(6,8))\n",
        "Y_axis_data = [field_count*100/Counts_of_toss_decsion[0],bat_count*100/Counts_of_toss_decsion[1]]\n",
        "x_axis_data =['field','Bat']\n",
        "sns.barplot(y=Y_axis_data,x=x_axis_data,orient='v',)\n",
        "plt.ylim([0,70])\n",
        "plt.text(0,Y_axis_data[0],'55.93%')\n",
        "plt.text(1,Y_axis_data[1],'45.77%')"
      ],
      "execution_count": null,
      "outputs": [
        {
          "output_type": "stream",
          "text": [
            "[463, 293]\n",
            "['field', 'field', 'field', 'field', 'bat', 'field', 'field', 'bat', 'field', 'field', 'field', 'field', 'field', 'field', 'bat', 'field', 'field', 'bat', 'field', 'field', 'bat', 'field', 'field', 'field', 'field', 'field', 'field', 'field', 'field', 'field', 'field', 'field', 'field', 'bat', 'field', 'field', 'bat', 'field', 'field', 'field', 'field', 'field', 'field', 'field', 'field', 'field', 'bat', 'field', 'field', 'field', 'bat', 'field', 'field', 'field', 'bat', 'field', 'field', 'field', 'bat', 'field', 'bat', 'bat', 'bat', 'bat', 'bat', 'bat', 'field', 'field', 'field', 'field', 'bat', 'field', 'bat', 'bat', 'bat', 'field', 'field', 'bat', 'bat', 'bat', 'bat', 'field', 'bat', 'field', 'field', 'field', 'field', 'bat', 'field', 'field', 'field', 'bat', 'field', 'bat', 'bat', 'field', 'field', 'field', 'field', 'bat', 'field', 'field', 'bat', 'field', 'field', 'field', 'bat', 'field', 'field', 'bat', 'field', 'bat', 'field', 'bat', 'field', 'bat', 'field', 'field', 'bat', 'field', 'bat', 'bat', 'field', 'bat', 'bat', 'field', 'bat', 'bat', 'bat', 'bat', 'field', 'bat', 'bat', 'bat', 'bat', 'field', 'field', 'bat', 'bat', 'bat', 'field', 'bat', 'bat', 'bat', 'field', 'bat', 'bat', 'field', 'bat', 'bat', 'field', 'bat', 'bat', 'field', 'bat', 'field', 'bat', 'field', 'bat', 'bat', 'field', 'bat', 'field', 'field', 'bat', 'bat', 'bat', 'field', 'bat', 'field', 'bat', 'field', 'field', 'field', 'field', 'bat', 'field', 'field', 'bat', 'field', 'bat', 'bat', 'field', 'field', 'bat', 'field', 'bat', 'bat', 'bat', 'field', 'bat', 'field', 'field', 'field', 'bat', 'bat', 'field', 'bat', 'field', 'bat', 'field', 'bat', 'bat', 'bat', 'bat', 'bat', 'bat', 'bat', 'bat', 'bat', 'bat', 'bat', 'bat', 'field', 'bat', 'bat', 'field', 'bat', 'field', 'field', 'bat', 'bat', 'bat', 'bat', 'field', 'field', 'bat', 'field', 'bat', 'bat', 'bat', 'bat', 'bat', 'bat', 'bat', 'field', 'bat', 'bat', 'bat', 'bat', 'bat', 'field', 'field', 'bat', 'field', 'field', 'field', 'bat', 'field', 'field', 'field', 'field', 'bat', 'bat', 'field', 'field', 'field', 'field', 'field', 'field', 'field', 'field', 'field', 'bat', 'field', 'field', 'field', 'field', 'bat', 'field', 'field', 'bat', 'field', 'field', 'field', 'bat', 'field', 'field', 'field', 'field', 'bat', 'field', 'bat', 'bat', 'field', 'bat', 'field', 'field', 'bat', 'field', 'field', 'bat', 'field', 'field', 'field', 'bat', 'bat', 'field', 'bat', 'field', 'bat', 'field', 'field', 'field', 'field', 'field', 'bat', 'field', 'field', 'field', 'field', 'field', 'field', 'field', 'bat', 'bat', 'field', 'field', 'field', 'bat', 'field', 'bat', 'bat', 'bat', 'field', 'bat', 'field', 'bat', 'bat', 'bat', 'bat', 'field', 'field', 'bat', 'field', 'bat', 'field', 'field', 'bat', 'bat', 'bat', 'field', 'bat', 'bat', 'bat', 'field', 'bat', 'bat', 'bat', 'field', 'bat', 'bat', 'bat', 'bat', 'field', 'field', 'bat', 'bat', 'field', 'field', 'field', 'field', 'bat', 'field', 'bat', 'bat', 'field', 'field', 'bat', 'field', 'field', 'field', 'bat', 'field', 'bat', 'field', 'bat', 'bat', 'field', 'field', 'bat', 'field', 'field', 'field', 'bat', 'bat', 'bat', 'bat', 'field', 'bat', 'field', 'field', 'bat', 'bat', 'bat', 'field', 'bat', 'field', 'bat', 'field', 'field', 'field', 'bat', 'bat', 'bat', 'bat', 'field', 'bat', 'field', 'bat', 'field', 'field', 'bat', 'bat', 'bat', 'bat', 'bat', 'field', 'field', 'field', 'bat', 'bat', 'bat', 'bat', 'bat', 'bat', 'bat', 'bat', 'field', 'bat', 'bat', 'bat', 'bat', 'bat', 'field', 'field', 'bat', 'field', 'bat', 'field', 'field', 'field', 'field', 'bat', 'field', 'bat', 'field', 'field', 'bat', 'field', 'bat', 'field', 'bat', 'bat', 'bat', 'bat', 'bat', 'bat', 'field', 'bat', 'field', 'field', 'bat', 'field', 'bat', 'field', 'field', 'field', 'bat', 'bat', 'field', 'field', 'bat', 'bat', 'field', 'bat', 'field', 'bat', 'bat', 'field', 'field', 'field', 'field', 'field', 'bat', 'field', 'field', 'field', 'field', 'field', 'field', 'bat', 'bat', 'bat', 'field', 'field', 'field', 'field', 'bat', 'bat', 'bat', 'field', 'bat', 'field', 'field', 'field', 'field', 'field', 'field', 'field', 'field', 'field', 'field', 'field', 'field', 'field', 'field', 'field', 'field', 'field', 'bat', 'field', 'field', 'field', 'field', 'bat', 'field', 'bat', 'field', 'bat', 'bat', 'field', 'bat', 'field', 'field', 'field', 'field', 'field', 'field', 'field', 'bat', 'bat', 'field', 'field', 'bat', 'field', 'field', 'field', 'field', 'field', 'field', 'bat', 'field', 'bat', 'field', 'bat', 'field', 'field', 'bat', 'bat', 'bat', 'bat', 'bat', 'bat', 'bat', 'field', 'field', 'bat', 'bat', 'bat', 'field', 'bat', 'bat', 'bat', 'field', 'field', 'bat', 'field', 'field', 'field', 'field', 'bat', 'field', 'bat', 'field', 'bat', 'field', 'field', 'field', 'field', 'field', 'field', 'field', 'field', 'bat', 'field', 'field', 'field', 'field', 'field', 'field', 'field', 'field', 'field', 'field', 'field', 'field', 'field', 'field', 'field', 'field', 'field', 'field', 'field', 'field', 'bat', 'field', 'field', 'bat', 'field', 'bat', 'bat', 'field', 'field', 'field', 'field', 'field', 'field', 'bat', 'field', 'field', 'field', 'field', 'field', 'field', 'bat', 'field', 'field', 'field', 'field', 'field', 'field', 'field', 'field', 'field', 'field', 'field', 'field', 'field', 'field', 'field', 'bat', 'field', 'field', 'field', 'field', 'bat', 'field', 'field', 'field', 'field', 'field', 'field', 'bat', 'field', 'field', 'field', 'field', 'field', 'field', 'field', 'bat', 'field', 'field', 'field', 'bat', 'field', 'bat', 'bat', 'field', 'field', 'field', 'field', 'field', 'field', 'field', 'field', 'field', 'bat', 'bat', 'bat', 'field', 'field', 'field', 'field', 'field', 'field', 'field', 'field', 'field', 'bat', 'field', 'field', 'bat', 'field', 'field', 'field', 'field', 'field', 'field', 'field', 'field', 'field', 'bat', 'field', 'field', 'field', 'field', 'field', 'field', 'field', 'field', 'field', 'field', 'field', 'field', 'field', 'field', 'bat', 'bat', 'field', 'field', 'field', 'field', 'field', 'field', 'field', 'field', 'field', 'field', 'field', 'bat', 'field', 'field', 'field', 'field', 'bat', 'field', 'bat', 'field', 'field', 'field', 'bat', 'field', 'field', 'bat']\n",
            "['Royal Challengers Bangalore', 'Rising Pune Supergiant', 'Kolkata Knight Riders', 'Kings XI Punjab', 'Royal Challengers Bangalore', 'Sunrisers Hyderabad', 'Mumbai Indians', 'Royal Challengers Bangalore', 'Rising Pune Supergiant', 'Mumbai Indians', 'Kolkata Knight Riders', 'Mumbai Indians', 'Gujarat Lions', 'Sunrisers Hyderabad', 'Delhi Daredevils', 'Mumbai Indians', 'Royal Challengers Bangalore', 'Delhi Daredevils', 'Kings XI Punjab', 'Gujarat Lions', 'Sunrisers Hyderabad', 'Mumbai Indians', 'Gujarat Lions', 'Delhi Daredevils', 'Rising Pune Supergiant', 'Gujarat Lions', 'Royal Challengers Bangalore', 'Mumbai Indians', 'Kolkata Knight Riders', 'Gujarat Lions', 'Kolkata Knight Riders', 'Kings XI Punjab', 'Royal Challengers Bangalore', 'Gujarat Lions', 'Kings XI Punjab', 'Kolkata Knight Riders', 'Royal Challengers Bangalore', 'Rising Pune Supergiant', 'Delhi Daredevils', 'Rising Pune Supergiant', 'Delhi Daredevils', 'Royal Challengers Bangalore', 'Sunrisers Hyderabad', 'Delhi Daredevils', 'Kolkata Knight Riders', 'Gujarat Lions', 'Mumbai Indians', 'Kolkata Knight Riders', 'Delhi Daredevils', 'Mumbai Indians', 'Delhi Daredevils', 'Sunrisers Hyderabad', 'Kolkata Knight Riders', 'Rising Pune Supergiant', 'Royal Challengers Bangalore', 'Mumbai Indians', 'Kolkata Knight Riders', 'Mumbai Indians', 'Mumbai Indians', 'Royal Challengers Bangalore', 'Chennai Super Kings', 'Rajasthan Royals', 'Mumbai Indians', 'Deccan Chargers', 'Kings XI Punjab', 'Deccan Chargers', 'Mumbai Indians', 'Rajasthan Royals', 'Mumbai Indians', 'Rajasthan Royals', 'Kolkata Knight Riders', 'Deccan Chargers', 'Delhi Daredevils', 'Chennai Super Kings', 'Kolkata Knight Riders', 'Royal Challengers Bangalore', 'Kings XI Punjab', 'Rajasthan Royals', 'Chennai Super Kings', 'Deccan Chargers', 'Kings XI Punjab', 'Delhi Daredevils', 'Chennai Super Kings', 'Kings XI Punjab', 'Deccan Chargers', 'Mumbai Indians', 'Chennai Super Kings', 'Kolkata Knight Riders', 'Rajasthan Royals', 'Mumbai Indians', 'Kings XI Punjab', 'Kolkata Knight Riders', 'Rajasthan Royals', 'Royal Challengers Bangalore', 'Kolkata Knight Riders', 'Mumbai Indians', 'Rajasthan Royals', 'Deccan Chargers', 'Mumbai Indians', 'Delhi Daredevils', 'Royal Challengers Bangalore', 'Deccan Chargers', 'Kolkata Knight Riders', 'Delhi Daredevils', 'Rajasthan Royals', 'Mumbai Indians', 'Royal Challengers Bangalore', 'Kings XI Punjab', 'Delhi Daredevils', 'Rajasthan Royals', 'Deccan Chargers', 'Kings XI Punjab', 'Rajasthan Royals', 'Deccan Chargers', 'Delhi Daredevils', 'Kings XI Punjab', 'Rajasthan Royals', 'Chennai Super Kings', 'Royal Challengers Bangalore', 'Delhi Daredevils', 'Kolkata Knight Riders', 'Chennai Super Kings', 'Kolkata Knight Riders', 'Deccan Chargers', 'Delhi Daredevils', 'Kolkata Knight Riders', 'Royal Challengers Bangalore', 'Deccan Chargers', 'Royal Challengers Bangalore', 'Kings XI Punjab', 'Deccan Chargers', 'Mumbai Indians', 'Delhi Daredevils', 'Kolkata Knight Riders', 'Kings XI Punjab', 'Delhi Daredevils', 'Rajasthan Royals', 'Mumbai Indians', 'Royal Challengers Bangalore', 'Deccan Chargers', 'Delhi Daredevils', 'Kolkata Knight Riders', 'Mumbai Indians', 'Chennai Super Kings', 'Kings XI Punjab', 'Kolkata Knight Riders', 'Deccan Chargers', 'Rajasthan Royals', 'Chennai Super Kings', 'Mumbai Indians', 'Kings XI Punjab', 'Rajasthan Royals', 'Mumbai Indians', 'Delhi Daredevils', 'Deccan Chargers', 'Royal Challengers Bangalore', 'Kings XI Punjab', 'Deccan Chargers', 'Chennai Super Kings', 'Rajasthan Royals', 'Kings XI Punjab', 'Mumbai Indians', 'Deccan Chargers', 'Deccan Chargers', 'Delhi Daredevils', 'Chennai Super Kings', 'Delhi Daredevils', 'Kolkata Knight Riders', 'Chennai Super Kings', 'Delhi Daredevils', 'Royal Challengers Bangalore', 'Deccan Chargers', 'Royal Challengers Bangalore', 'Royal Challengers Bangalore', 'Deccan Chargers', 'Mumbai Indians', 'Delhi Daredevils', 'Kolkata Knight Riders', 'Deccan Chargers', 'Delhi Daredevils', 'Kings XI Punjab', 'Chennai Super Kings', 'Delhi Daredevils', 'Royal Challengers Bangalore', 'Delhi Daredevils', 'Kings XI Punjab', 'Rajasthan Royals', 'Mumbai Indians', 'Deccan Chargers', 'Chennai Super Kings', 'Kolkata Knight Riders', 'Chennai Super Kings', 'Kings XI Punjab', 'Mumbai Indians', 'Deccan Chargers', 'Kolkata Knight Riders', 'Royal Challengers Bangalore', 'Rajasthan Royals', 'Deccan Chargers', 'Delhi Daredevils', 'Mumbai Indians', 'Royal Challengers Bangalore', 'Delhi Daredevils', 'Kolkata Knight Riders', 'Kings XI Punjab', 'Chennai Super Kings', 'Mumbai Indians', 'Kolkata Knight Riders', 'Delhi Daredevils', 'Rajasthan Royals', 'Chennai Super Kings', 'Kings XI Punjab', 'Kolkata Knight Riders', 'Deccan Chargers', 'Mumbai Indians', 'Chennai Super Kings', 'Royal Challengers Bangalore', 'Delhi Daredevils', 'Rajasthan Royals', 'Royal Challengers Bangalore', 'Mumbai Indians', 'Kolkata Knight Riders', 'Rajasthan Royals', 'Chennai Super Kings', 'Deccan Chargers', 'Royal Challengers Bangalore', 'Rajasthan Royals', 'Chennai Super Kings', 'Deccan Chargers', 'Mumbai Indians', 'Mumbai Indians', 'Chennai Super Kings', 'Deccan Chargers', 'Chennai Super Kings', 'Chennai Super Kings', 'Rajasthan Royals', 'Kochi Tuskers Kerala', 'Delhi Daredevils', 'Kings XI Punjab', 'Kolkata Knight Riders', 'Delhi Daredevils', 'Mumbai Indians', 'Kings XI Punjab', 'Kochi Tuskers Kerala', 'Royal Challengers Bangalore', 'Kolkata Knight Riders', 'Kochi Tuskers Kerala', 'Chennai Super Kings', 'Kings XI Punjab', 'Delhi Daredevils', 'Kolkata Knight Riders', 'Kochi Tuskers Kerala', 'Deccan Chargers', 'Pune Warriors', 'Kolkata Knight Riders', 'Rajasthan Royals', 'Chennai Super Kings', 'Royal Challengers Bangalore', 'Kings XI Punjab', 'Deccan Chargers', 'Rajasthan Royals', 'Pune Warriors', 'Royal Challengers Bangalore', 'Pune Warriors', 'Kochi Tuskers Kerala', 'Delhi Daredevils', 'Rajasthan Royals', 'Pune Warriors', 'Delhi Daredevils', 'Kolkata Knight Riders', 'Rajasthan Royals', 'Chennai Super Kings', 'Kings XI Punjab', 'Kochi Tuskers Kerala', 'Deccan Chargers', 'Rajasthan Royals', 'Pune Warriors', 'Kolkata Knight Riders', 'Delhi Daredevils', 'Kings XI Punjab', 'Chennai Super Kings', 'Delhi Daredevils', 'Kochi Tuskers Kerala', 'Kings XI Punjab', 'Rajasthan Royals', 'Deccan Chargers', 'Mumbai Indians', 'Royal Challengers Bangalore', 'Chennai Super Kings', 'Kings XI Punjab', 'Royal Challengers Bangalore', 'Deccan Chargers', 'Delhi Daredevils', 'Kochi Tuskers Kerala', 'Deccan Chargers', 'Kings XI Punjab', 'Chennai Super Kings', 'Kolkata Knight Riders', 'Mumbai Indians', 'Kings XI Punjab', 'Delhi Daredevils', 'Royal Challengers Bangalore', 'Mumbai Indians', 'Chennai Super Kings', 'Mumbai Indians', 'Mumbai Indians', 'Chennai Super Kings', 'Mumbai Indians', 'Delhi Daredevils', 'Mumbai Indians', 'Kings XI Punjab', 'Delhi Daredevils', 'Deccan Chargers', 'Kolkata Knight Riders', 'Pune Warriors', 'Deccan Chargers', 'Royal Challengers Bangalore', 'Delhi Daredevils', 'Rajasthan Royals', 'Royal Challengers Bangalore', 'Kings XI Punjab', 'Rajasthan Royals', 'Deccan Chargers', 'Chennai Super Kings', 'Kolkata Knight Riders', 'Rajasthan Royals', 'Delhi Daredevils', 'Deccan Chargers', 'Pune Warriors', 'Kings XI Punjab', 'Deccan Chargers', 'Pune Warriors', 'Royal Challengers Bangalore', 'Rajasthan Royals', 'Delhi Daredevils', 'Mumbai Indians', 'Kolkata Knight Riders', 'Rajasthan Royals', 'Pune Warriors', 'Kings XI Punjab', 'Deccan Chargers', 'Mumbai Indians', 'Kings XI Punjab', 'Kolkata Knight Riders', 'Delhi Daredevils', 'Mumbai Indians', 'Chennai Super Kings', 'Deccan Chargers', 'Rajasthan Royals', 'Kings XI Punjab', 'Mumbai Indians', 'Chennai Super Kings', 'Kolkata Knight Riders', 'Rajasthan Royals', 'Mumbai Indians', 'Royal Challengers Bangalore', 'Delhi Daredevils', 'Pune Warriors', 'Deccan Chargers', 'Royal Challengers Bangalore', 'Chennai Super Kings', 'Pune Warriors', 'Mumbai Indians', 'Chennai Super Kings', 'Rajasthan Royals', 'Deccan Chargers', 'Mumbai Indians', 'Chennai Super Kings', 'Kings XI Punjab', 'Mumbai Indians', 'Kings XI Punjab', 'Delhi Daredevils', 'Rajasthan Royals', 'Delhi Daredevils', 'Kolkata Knight Riders', 'Royal Challengers Bangalore', 'Rajasthan Royals', 'Kolkata Knight Riders', 'Mumbai Indians', 'Delhi Daredevils', 'Chennai Super Kings', 'Kolkata Knight Riders', 'Mumbai Indians', 'Pune Warriors', 'Rajasthan Royals', 'Mumbai Indians', 'Pune Warriors', 'Royal Challengers Bangalore', 'Kolkata Knight Riders', 'Mumbai Indians', 'Chennai Super Kings', 'Royal Challengers Bangalore', 'Rajasthan Royals', 'Delhi Daredevils', 'Mumbai Indians', 'Chennai Super Kings', 'Kolkata Knight Riders', 'Rajasthan Royals', 'Pune Warriors', 'Kolkata Knight Riders', 'Royal Challengers Bangalore', 'Pune Warriors', 'Rajasthan Royals', 'Chennai Super Kings', 'Kings XI Punjab', 'Kolkata Knight Riders', 'Royal Challengers Bangalore', 'Mumbai Indians', 'Kings XI Punjab', 'Rajasthan Royals', 'Pune Warriors', 'Delhi Daredevils', 'Kolkata Knight Riders', 'Sunrisers Hyderabad', 'Kings XI Punjab', 'Sunrisers Hyderabad', 'Mumbai Indians', 'Kolkata Knight Riders', 'Pune Warriors', 'Rajasthan Royals', 'Mumbai Indians', 'Chennai Super Kings', 'Mumbai Indians', 'Kolkata Knight Riders', 'Chennai Super Kings', 'Royal Challengers Bangalore', 'Rajasthan Royals', 'Delhi Daredevils', 'Kings XI Punjab', 'Mumbai Indians', 'Pune Warriors', 'Sunrisers Hyderabad', 'Delhi Daredevils', 'Mumbai Indians', 'Sunrisers Hyderabad', 'Rajasthan Royals', 'Kolkata Knight Riders', 'Delhi Daredevils', 'Pune Warriors', 'Kings XI Punjab', 'Kolkata Knight Riders', 'Rajasthan Royals', 'Kings XI Punjab', 'Sunrisers Hyderabad', 'Kolkata Knight Riders', 'Chennai Super Kings', 'Rajasthan Royals', 'Kings XI Punjab', 'Sunrisers Hyderabad', 'Mumbai Indians', 'Pune Warriors', 'Chennai Super Kings', 'Kolkata Knight Riders', 'Chennai Super Kings', 'Sunrisers Hyderabad', 'Rajasthan Royals', 'Mumbai Indians', 'Kolkata Knight Riders', 'Royal Challengers Bangalore', 'Chennai Super Kings', 'Rajasthan Royals', 'Royal Challengers Bangalore', 'Kolkata Knight Riders', 'Kings XI Punjab', 'Chennai Super Kings', 'Sunrisers Hyderabad', 'Rajasthan Royals', 'Royal Challengers Bangalore', 'Sunrisers Hyderabad', 'Mumbai Indians', 'Rajasthan Royals', 'Kolkata Knight Riders', 'Mumbai Indians', 'Sunrisers Hyderabad', 'Kings XI Punjab', 'Rajasthan Royals', 'Mumbai Indians', 'Chennai Super Kings', 'Kings XI Punjab', 'Rajasthan Royals', 'Royal Challengers Bangalore', 'Kolkata Knight Riders', 'Chennai Super Kings', 'Royal Challengers Bangalore', 'Delhi Daredevils', 'Chennai Super Kings', 'Rajasthan Royals', 'Royal Challengers Bangalore', 'Sunrisers Hyderabad', 'Chennai Super Kings', 'Kolkata Knight Riders', 'Royal Challengers Bangalore', 'Sunrisers Hyderabad', 'Rajasthan Royals', 'Delhi Daredevils', 'Kings XI Punjab', 'Kolkata Knight Riders', 'Delhi Daredevils', 'Chennai Super Kings', 'Sunrisers Hyderabad', 'Mumbai Indians', 'Kings XI Punjab', 'Royal Challengers Bangalore', 'Kolkata Knight Riders', 'Mumbai Indians', 'Royal Challengers Bangalore', 'Sunrisers Hyderabad', 'Delhi Daredevils', 'Rajasthan Royals', 'Chennai Super Kings', 'Kolkata Knight Riders', 'Kings XI Punjab', 'Mumbai Indians', 'Kings XI Punjab', 'Chennai Super Kings', 'Chennai Super Kings', 'Kolkata Knight Riders', 'Kolkata Knight Riders', 'Delhi Daredevils', 'Kings XI Punjab', 'Chennai Super Kings', 'Royal Challengers Bangalore', 'Rajasthan Royals', 'Mumbai Indians', 'Sunrisers Hyderabad', 'Mumbai Indians', 'Kolkata Knight Riders', 'Kings XI Punjab', 'Rajasthan Royals', 'Mumbai Indians', 'Delhi Daredevils', 'Kolkata Knight Riders', 'Chennai Super Kings', 'Royal Challengers Bangalore', 'Kolkata Knight Riders', 'Kings XI Punjab', 'Kolkata Knight Riders', 'Royal Challengers Bangalore', 'Mumbai Indians', 'Royal Challengers Bangalore', 'Mumbai Indians', 'Chennai Super Kings', 'Royal Challengers Bangalore', 'Kings XI Punjab', 'Kolkata Knight Riders', 'Rajasthan Royals', 'Kolkata Knight Riders', 'Delhi Daredevils', 'Rajasthan Royals', 'Royal Challengers Bangalore', 'Chennai Super Kings', 'Mumbai Indians', 'Delhi Daredevils', 'Chennai Super Kings', 'Sunrisers Hyderabad', 'Delhi Daredevils', 'Kings XI Punjab', 'Rajasthan Royals', 'Chennai Super Kings', 'Kings XI Punjab', 'Sunrisers Hyderabad', 'Royal Challengers Bangalore', 'Chennai Super Kings', 'Sunrisers Hyderabad', 'Chennai Super Kings', 'Royal Challengers Bangalore', 'Kolkata Knight Riders', 'Sunrisers Hyderabad', 'Kings XI Punjab', 'Rajasthan Royals', 'Royal Challengers Bangalore', 'Sunrisers Hyderabad', 'Mumbai Indians', 'Royal Challengers Bangalore', 'Chennai Super Kings', 'Chennai Super Kings', 'Mumbai Indians', 'Kolkata Knight Riders', 'Gujarat Lions', 'Sunrisers Hyderabad', 'Mumbai Indians', 'Rising Pune Supergiants', 'Delhi Daredevils', 'Sunrisers Hyderabad', 'Gujarat Lions', 'Rising Pune Supergiants', 'Delhi Daredevils', 'Sunrisers Hyderabad', 'Kolkata Knight Riders', 'Mumbai Indians', 'Sunrisers Hyderabad', 'Rising Pune Supergiants', 'Mumbai Indians', 'Sunrisers Hyderabad', 'Royal Challengers Bangalore', 'Kolkata Knight Riders', 'Kings XI Punjab', 'Rising Pune Supergiants', 'Delhi Daredevils', 'Mumbai Indians', 'Gujarat Lions', 'Kolkata Knight Riders', 'Royal Challengers Bangalore', 'Gujarat Lions', 'Mumbai Indians', 'Kolkata Knight Riders', 'Delhi Daredevils', 'Kings XI Punjab', 'Rising Pune Supergiants', 'Sunrisers Hyderabad', 'Royal Challengers Bangalore', 'Delhi Daredevils', 'Mumbai Indians', 'Gujarat Lions', 'Kings XI Punjab', 'Sunrisers Hyderabad', 'Mumbai Indians', 'Delhi Daredevils', 'Mumbai Indians', 'Gujarat Lions', 'Rising Pune Supergiants', 'Kings XI Punjab', 'Delhi Daredevils', 'Royal Challengers Bangalore', 'Rising Pune Supergiants', 'Kings XI Punjab', 'Gujarat Lions', 'Delhi Daredevils', 'Kings XI Punjab', 'Gujarat Lions', 'Sunrisers Hyderabad', 'Royal Challengers Bangalore', 'Royal Challengers Bangalore', 'Kolkata Knight Riders', 'Sunrisers Hyderabad', 'Sunrisers Hyderabad', 'Chennai Super Kings', 'Kings XI Punjab', 'Kolkata Knight Riders', 'Sunrisers Hyderabad', 'Chennai Super Kings', 'Delhi Daredevils', 'Sunrisers Hyderabad', 'Royal Challengers Bangalore', 'Delhi Daredevils', 'Sunrisers Hyderabad', 'Royal Challengers Bangalore', 'Chennai Super Kings', 'Delhi Daredevils', 'Royal Challengers Bangalore', 'Kolkata Knight Riders', 'Kings XI Punjab', 'Rajasthan Royals', 'Kings XI Punjab', 'Royal Challengers Bangalore', 'Sunrisers Hyderabad', 'Mumbai Indians', 'Delhi Daredevils', 'Mumbai Indians', 'Chennai Super Kings', 'Kings XI Punjab', 'Kolkata Knight Riders', 'Mumbai Indians', 'Sunrisers Hyderabad', 'Kolkata Knight Riders', 'Delhi Daredevils', 'Mumbai Indians', 'Rajasthan Royals', 'Kolkata Knight Riders', 'Mumbai Indians', 'Chennai Super Kings', 'Delhi Daredevils', 'Kolkata Knight Riders', 'Kings XI Punjab', 'Royal Challengers Bangalore', 'Rajasthan Royals', 'Kolkata Knight Riders', 'Delhi Daredevils', 'Chennai Super Kings', 'Kings XI Punjab', 'Royal Challengers Bangalore', 'Chennai Super Kings', 'Rajasthan Royals', 'Royal Challengers Bangalore', 'Kolkata Knight Riders', 'Kings XI Punjab', 'Sunrisers Hyderabad', 'Chennai Super Kings', 'Rajasthan Royals', 'Sunrisers Hyderabad', 'Delhi Daredevils', 'Chennai Super Kings', 'Chennai Super Kings', 'Rajasthan Royals', 'Kolkata Knight Riders', 'Chennai Super Kings', 'Chennai Super Kings', 'Kolkata Knight Riders', 'Mumbai Indians', 'Rajasthan Royals', 'Delhi Capitals', 'Kings XI Punjab', 'Royal Challengers Bangalore', 'Rajasthan Royals', 'Kings XI Punjab', 'Delhi Capitals', 'Royal Challengers Bangalore', 'Rajasthan Royals', 'Delhi Capitals', 'Rajasthan Royals', 'Chennai Super Kings', 'Sunrisers Hyderabad', 'Kolkata Knight Riders', 'Chennai Super Kings', 'Sunrisers Hyderabad', 'Delhi Capitals', 'Kolkata Knight Riders', 'Kings XI Punjab', 'Chennai Super Kings', 'Mumbai Indians', 'Chennai Super Kings', 'Delhi Capitals', 'Rajasthan Royals', 'Royal Challengers Bangalore', 'Chennai Super Kings', 'Sunrisers Hyderabad', 'Mumbai Indians', 'Rajasthan Royals', 'Chennai Super Kings', 'Mumbai Indians', 'Kolkata Knight Riders', 'Rajasthan Royals', 'Delhi Capitals', 'Sunrisers Hyderabad', 'Chennai Super Kings', 'Delhi Capitals', 'Chennai Super Kings', 'Kings XI Punjab', 'Rajasthan Royals', 'Chennai Super Kings', 'Rajasthan Royals', 'Delhi Capitals', 'Mumbai Indians', 'Kings XI Punjab', 'Rajasthan Royals', 'Delhi Capitals', 'Mumbai Indians', 'Kolkata Knight Riders', 'Rajasthan Royals', 'Royal Challengers Bangalore', 'Kings XI Punjab', 'Mumbai Indians', 'Chennai Super Kings', 'Delhi Capitals', 'Chennai Super Kings', 'Mumbai Indians']\n",
            "['Sunrisers Hyderabad', 'Rising Pune Supergiant', 'Kolkata Knight Riders', 'Kings XI Punjab', 'Royal Challengers Bangalore', 'Sunrisers Hyderabad', 'Mumbai Indians', 'Kings XI Punjab', 'Delhi Daredevils', 'Mumbai Indians', 'Kolkata Knight Riders', 'Mumbai Indians', 'Gujarat Lions', 'Kolkata Knight Riders', 'Delhi Daredevils', 'Mumbai Indians', 'Rising Pune Supergiant', 'Kolkata Knight Riders', 'Sunrisers Hyderabad', 'Royal Challengers Bangalore', 'Sunrisers Hyderabad', 'Mumbai Indians', 'Gujarat Lions', 'Mumbai Indians', 'Rising Pune Supergiant', 'Kings XI Punjab', 'Kolkata Knight Riders', 'Rising Pune Supergiant', 'Kolkata Knight Riders', 'Gujarat Lions', 'Kolkata Knight Riders', 'Sunrisers Hyderabad', 'Rising Pune Supergiant', 'Mumbai Indians', 'Kings XI Punjab', 'Sunrisers Hyderabad', 'Mumbai Indians', 'Rising Pune Supergiant', 'Delhi Daredevils', 'Rising Pune Supergiant', 'Delhi Daredevils', 'Kings XI Punjab', 'Rising Pune Supergiant', 'Mumbai Indians', 'Kolkata Knight Riders', 'Gujarat Lions', 'Sunrisers Hyderabad', 'Kings XI Punjab', 'Delhi Daredevils', 'Kings XI Punjab', 'Delhi Daredevils', 'Sunrisers Hyderabad', 'Mumbai Indians', 'Rising Pune Supergiant', 'Royal Challengers Bangalore', 'Rising Pune Supergiant', 'Kolkata Knight Riders', 'Mumbai Indians', 'Mumbai Indians', 'Kolkata Knight Riders', 'Chennai Super Kings', 'Delhi Daredevils', 'Royal Challengers Bangalore', 'Kolkata Knight Riders', 'Rajasthan Royals', 'Delhi Daredevils', 'Chennai Super Kings', 'Rajasthan Royals', 'Kings XI Punjab', 'Rajasthan Royals', 'Chennai Super Kings', 'Deccan Chargers', 'Kings XI Punjab', 'Chennai Super Kings', 'Mumbai Indians', 'Delhi Daredevils', 'Kings XI Punjab', 'Rajasthan Royals', 'Delhi Daredevils', 'Royal Challengers Bangalore', 'Kings XI Punjab', 'Mumbai Indians', 'Rajasthan Royals', 'Kings XI Punjab', 'Deccan Chargers', 'Mumbai Indians', 'Chennai Super Kings', 'Kolkata Knight Riders', 'Rajasthan Royals', 'Mumbai Indians', 'Chennai Super Kings', 'Kolkata Knight Riders', 'Rajasthan Royals', 'Kings XI Punjab', 'Kolkata Knight Riders', 'Mumbai Indians', 'Kings XI Punjab', 'Delhi Daredevils', 'Mumbai Indians', 'Kings XI Punjab', 'Rajasthan Royals', 'Mumbai Indians', 'Chennai Super Kings', 'Delhi Daredevils', 'Rajasthan Royals', 'Kings XI Punjab', 'Royal Challengers Bangalore', 'Kings XI Punjab', 'Delhi Daredevils', 'Rajasthan Royals', 'Royal Challengers Bangalore', 'Kolkata Knight Riders', 'Rajasthan Royals', 'Chennai Super Kings', 'Rajasthan Royals', 'Chennai Super Kings', 'Rajasthan Royals', 'Mumbai Indians', 'Royal Challengers Bangalore', 'Delhi Daredevils', 'Deccan Chargers', 'Chennai Super Kings', 'Kolkata Knight Riders', 'Deccan Chargers', 'Delhi Daredevils', 'Rajasthan Royals', 'Kings XI Punjab', 'Deccan Chargers', 'Delhi Daredevils', 'Kings XI Punjab', 'Deccan Chargers', 'Mumbai Indians', 'Rajasthan Royals', 'Royal Challengers Bangalore', 'Kings XI Punjab', 'Delhi Daredevils', 'Chennai Super Kings', 'Mumbai Indians', 'Royal Challengers Bangalore', 'Rajasthan Royals', 'Chennai Super Kings', 'Kings XI Punjab', 'Royal Challengers Bangalore', 'Chennai Super Kings', 'Rajasthan Royals', 'Delhi Daredevils', 'Deccan Chargers', 'Rajasthan Royals', 'Chennai Super Kings', 'Delhi Daredevils', 'Kings XI Punjab', 'Chennai Super Kings', 'Mumbai Indians', 'Delhi Daredevils', 'Deccan Chargers', 'Royal Challengers Bangalore', 'Mumbai Indians', 'Delhi Daredevils', 'Royal Challengers Bangalore', 'Rajasthan Royals', 'Kings XI Punjab', 'Chennai Super Kings', 'Deccan Chargers', 'Kings XI Punjab', 'Delhi Daredevils', 'Kolkata Knight Riders', 'Royal Challengers Bangalore', 'Kolkata Knight Riders', 'Chennai Super Kings', 'Delhi Daredevils', 'Royal Challengers Bangalore', 'Deccan Chargers', 'Royal Challengers Bangalore', 'Deccan Chargers', 'Kolkata Knight Riders', 'Mumbai Indians', 'Delhi Daredevils', 'Kolkata Knight Riders', 'Deccan Chargers', 'Delhi Daredevils', 'Royal Challengers Bangalore', 'Chennai Super Kings', 'Mumbai Indians', 'Royal Challengers Bangalore', 'Chennai Super Kings', 'Deccan Chargers', 'Rajasthan Royals', 'Royal Challengers Bangalore', 'Deccan Chargers', 'Kings XI Punjab', 'Mumbai Indians', 'Royal Challengers Bangalore', 'Rajasthan Royals', 'Mumbai Indians', 'Rajasthan Royals', 'Kolkata Knight Riders', 'Delhi Daredevils', 'Rajasthan Royals', 'Mumbai Indians', 'Delhi Daredevils', 'Mumbai Indians', 'Chennai Super Kings', 'Delhi Daredevils', 'Kolkata Knight Riders', 'Royal Challengers Bangalore', 'Chennai Super Kings', 'Mumbai Indians', 'Kings XI Punjab', 'Delhi Daredevils', 'Rajasthan Royals', 'Chennai Super Kings', 'Rajasthan Royals', 'Kolkata Knight Riders', 'Deccan Chargers', 'Kings XI Punjab', 'Deccan Chargers', 'Royal Challengers Bangalore', 'Kings XI Punjab', 'Mumbai Indians', 'Deccan Chargers', 'Mumbai Indians', 'Chennai Super Kings', 'Royal Challengers Bangalore', 'Delhi Daredevils', 'Deccan Chargers', 'Mumbai Indians', 'Kolkata Knight Riders', 'Chennai Super Kings', 'Deccan Chargers', 'Kolkata Knight Riders', 'Mumbai Indians', 'Chennai Super Kings', 'Royal Challengers Bangalore', 'Chennai Super Kings', 'Chennai Super Kings', 'Rajasthan Royals', 'Royal Challengers Bangalore', 'Mumbai Indians', 'Pune Warriors', 'Kolkata Knight Riders', 'Rajasthan Royals', 'Mumbai Indians', 'Kings XI Punjab', 'Pune Warriors', 'Deccan Chargers', 'Kolkata Knight Riders', 'Kochi Tuskers Kerala', 'Chennai Super Kings', 'Kings XI Punjab', 'Delhi Daredevils', 'Kolkata Knight Riders', 'Kochi Tuskers Kerala', 'Deccan Chargers', 'Mumbai Indians', 'Kochi Tuskers Kerala', 'Kings XI Punjab', 'Mumbai Indians', 'Royal Challengers Bangalore', 'Delhi Daredevils', 'Mumbai Indians', 'Rajasthan Royals', 'Chennai Super Kings', 'Royal Challengers Bangalore', 'Chennai Super Kings', 'Deccan Chargers', 'Kolkata Knight Riders', 'Rajasthan Royals', 'Royal Challengers Bangalore', 'Delhi Daredevils', 'Kolkata Knight Riders', 'Rajasthan Royals', 'Chennai Super Kings', 'Mumbai Indians', 'Kochi Tuskers Kerala', 'Kolkata Knight Riders', 'Chennai Super Kings', 'Mumbai Indians', 'Kochi Tuskers Kerala', 'Delhi Daredevils', 'Royal Challengers Bangalore', 'Kolkata Knight Riders', 'Mumbai Indians', 'Royal Challengers Bangalore', 'Pune Warriors', 'Chennai Super Kings', 'Pune Warriors', 'Kings XI Punjab', 'Royal Challengers Bangalore', 'Chennai Super Kings', 'Kings XI Punjab', 'Royal Challengers Bangalore', 'Deccan Chargers', 'Kings XI Punjab', 'Kochi Tuskers Kerala', 'Deccan Chargers', 'Kings XI Punjab', 'Chennai Super Kings', 'Kolkata Knight Riders', 'Rajasthan Royals', 'Deccan Chargers', nan, 'Royal Challengers Bangalore', 'Mumbai Indians', 'Chennai Super Kings', 'Mumbai Indians', 'Royal Challengers Bangalore', 'Chennai Super Kings', 'Mumbai Indians', 'Delhi Daredevils', 'Pune Warriors', 'Rajasthan Royals', 'Royal Challengers Bangalore', 'Chennai Super Kings', 'Rajasthan Royals', 'Pune Warriors', 'Mumbai Indians', 'Kolkata Knight Riders', 'Delhi Daredevils', 'Mumbai Indians', 'Chennai Super Kings', 'Kings XI Punjab', 'Kolkata Knight Riders', 'Delhi Daredevils', 'Pune Warriors', 'Kings XI Punjab', 'Rajasthan Royals', 'Delhi Daredevils', 'Rajasthan Royals', 'Royal Challengers Bangalore', 'Kolkata Knight Riders', 'Delhi Daredevils', 'Chennai Super Kings', 'Royal Challengers Bangalore', 'Chennai Super Kings', 'Pune Warriors', 'Kings XI Punjab', 'Kolkata Knight Riders', 'Royal Challengers Bangalore', 'Delhi Daredevils', 'Mumbai Indians', 'Deccan Chargers', 'Delhi Daredevils', 'Kings XI Punjab', 'Kolkata Knight Riders', 'Delhi Daredevils', 'Mumbai Indians', 'Kolkata Knight Riders', 'Deccan Chargers', 'Delhi Daredevils', 'Kings XI Punjab', 'Mumbai Indians', 'Chennai Super Kings', 'Kolkata Knight Riders', 'Rajasthan Royals', 'Mumbai Indians', 'Royal Challengers Bangalore', 'Kolkata Knight Riders', 'Rajasthan Royals', 'Kings XI Punjab', 'Royal Challengers Bangalore', 'Chennai Super Kings', 'Royal Challengers Bangalore', 'Mumbai Indians', 'Chennai Super Kings', 'Rajasthan Royals', 'Kings XI Punjab', 'Mumbai Indians', 'Chennai Super Kings', 'Delhi Daredevils', 'Kolkata Knight Riders', 'Kings XI Punjab', 'Royal Challengers Bangalore', 'Deccan Chargers', 'Delhi Daredevils', 'Kolkata Knight Riders', 'Deccan Chargers', 'Mumbai Indians', 'Kolkata Knight Riders', 'Chennai Super Kings', 'Chennai Super Kings', 'Kolkata Knight Riders', 'Kolkata Knight Riders', 'Royal Challengers Bangalore', 'Sunrisers Hyderabad', 'Rajasthan Royals', 'Mumbai Indians', 'Kings XI Punjab', 'Sunrisers Hyderabad', 'Rajasthan Royals', 'Mumbai Indians', 'Chennai Super Kings', 'Royal Challengers Bangalore', 'Pune Warriors', 'Sunrisers Hyderabad', 'Mumbai Indians', 'Chennai Super Kings', 'Kolkata Knight Riders', 'Rajasthan Royals', 'Pune Warriors', 'Kings XI Punjab', 'Royal Challengers Bangalore', 'Sunrisers Hyderabad', 'Rajasthan Royals', 'Chennai Super Kings', 'Sunrisers Hyderabad', 'Chennai Super Kings', 'Royal Challengers Bangalore', 'Delhi Daredevils', 'Kings XI Punjab', 'Chennai Super Kings', 'Royal Challengers Bangalore', 'Kings XI Punjab', 'Mumbai Indians', 'Chennai Super Kings', 'Kolkata Knight Riders', 'Rajasthan Royals', 'Mumbai Indians', 'Chennai Super Kings', 'Delhi Daredevils', 'Rajasthan Royals', 'Mumbai Indians', 'Chennai Super Kings', 'Sunrisers Hyderabad', 'Delhi Daredevils', 'Chennai Super Kings', 'Royal Challengers Bangalore', 'Kolkata Knight Riders', 'Sunrisers Hyderabad', 'Kings XI Punjab', 'Mumbai Indians', 'Rajasthan Royals', 'Royal Challengers Bangalore', 'Rajasthan Royals', 'Mumbai Indians', 'Chennai Super Kings', 'Rajasthan Royals', 'Kolkata Knight Riders', 'Royal Challengers Bangalore', 'Mumbai Indians', 'Sunrisers Hyderabad', 'Kolkata Knight Riders', 'Rajasthan Royals', 'Kings XI Punjab', 'Mumbai Indians', 'Pune Warriors', 'Chennai Super Kings', 'Mumbai Indians', 'Kings XI Punjab', 'Sunrisers Hyderabad', 'Kings XI Punjab', 'Pune Warriors', 'Royal Challengers Bangalore', 'Sunrisers Hyderabad', 'Chennai Super Kings', 'Rajasthan Royals', 'Mumbai Indians', 'Mumbai Indians', 'Kolkata Knight Riders', 'Royal Challengers Bangalore', 'Kings XI Punjab', 'Rajasthan Royals', 'Royal Challengers Bangalore', 'Delhi Daredevils', 'Kings XI Punjab', 'Chennai Super Kings', 'Kings XI Punjab', 'Chennai Super Kings', 'Kolkata Knight Riders', 'Sunrisers Hyderabad', 'Chennai Super Kings', 'Rajasthan Royals', 'Kings XI Punjab', 'Delhi Daredevils', 'Chennai Super Kings', 'Kings XI Punjab', 'Rajasthan Royals', 'Sunrisers Hyderabad', 'Chennai Super Kings', 'Mumbai Indians', 'Rajasthan Royals', 'Royal Challengers Bangalore', 'Rajasthan Royals', 'Chennai Super Kings', 'Mumbai Indians', 'Kolkata Knight Riders', 'Kings XI Punjab', 'Sunrisers Hyderabad', 'Kings XI Punjab', 'Sunrisers Hyderabad', 'Chennai Super Kings', 'Kolkata Knight Riders', 'Rajasthan Royals', 'Mumbai Indians', 'Chennai Super Kings', 'Royal Challengers Bangalore', 'Kings XI Punjab', 'Kolkata Knight Riders', 'Rajasthan Royals', 'Royal Challengers Bangalore', 'Kolkata Knight Riders', 'Mumbai Indians', 'Kings XI Punjab', 'Sunrisers Hyderabad', 'Kolkata Knight Riders', 'Mumbai Indians', 'Kolkata Knight Riders', 'Sunrisers Hyderabad', 'Mumbai Indians', 'Kings XI Punjab', 'Chennai Super Kings', 'Kolkata Knight Riders', 'Kings XI Punjab', 'Mumbai Indians', 'Kolkata Knight Riders', 'Chennai Super Kings', 'Kings XI Punjab', 'Kolkata Knight Riders', 'Kolkata Knight Riders', 'Chennai Super Kings', 'Rajasthan Royals', 'Chennai Super Kings', 'Royal Challengers Bangalore', 'Rajasthan Royals', 'Kings XI Punjab', 'Sunrisers Hyderabad', 'Rajasthan Royals', 'Kolkata Knight Riders', 'Delhi Daredevils', 'Rajasthan Royals', 'Chennai Super Kings', 'Delhi Daredevils', 'Kolkata Knight Riders', 'Rajasthan Royals', 'Mumbai Indians', 'Kolkata Knight Riders', 'Kings XI Punjab', 'Sunrisers Hyderabad', 'Chennai Super Kings', 'Delhi Daredevils', 'Royal Challengers Bangalore', 'Mumbai Indians', 'Chennai Super Kings', 'Royal Challengers Bangalore', 'Sunrisers Hyderabad', 'Kolkata Knight Riders', nan, 'Chennai Super Kings', 'Delhi Daredevils', 'Mumbai Indians', 'Royal Challengers Bangalore', 'Sunrisers Hyderabad', 'Mumbai Indians', 'Rajasthan Royals', 'Chennai Super Kings', 'Kolkata Knight Riders', 'Mumbai Indians', 'Royal Challengers Bangalore', 'Sunrisers Hyderabad', 'Mumbai Indians', 'Kolkata Knight Riders', 'Sunrisers Hyderabad', 'Royal Challengers Bangalore', 'Chennai Super Kings', 'Sunrisers Hyderabad', 'Delhi Daredevils', 'Kings XI Punjab', 'Mumbai Indians', 'Royal Challengers Bangalore', 'Chennai Super Kings', 'Rajasthan Royals', nan, 'Mumbai Indians', 'Mumbai Indians', 'Royal Challengers Bangalore', 'Chennai Super Kings', 'Mumbai Indians', 'Rising Pune Supergiants', 'Kolkata Knight Riders', 'Gujarat Lions', 'Royal Challengers Bangalore', 'Mumbai Indians', 'Gujarat Lions', 'Delhi Daredevils', 'Kolkata Knight Riders', 'Gujarat Lions', 'Kings XI Punjab', 'Delhi Daredevils', 'Sunrisers Hyderabad', 'Kolkata Knight Riders', 'Mumbai Indians', 'Sunrisers Hyderabad', 'Royal Challengers Bangalore', 'Delhi Daredevils', 'Sunrisers Hyderabad', 'Gujarat Lions', 'Kolkata Knight Riders', 'Mumbai Indians', 'Rising Pune Supergiants', 'Gujarat Lions', 'Mumbai Indians', 'Gujarat Lions', 'Delhi Daredevils', 'Sunrisers Hyderabad', 'Kings XI Punjab', 'Mumbai Indians', 'Kolkata Knight Riders', 'Delhi Daredevils', 'Kolkata Knight Riders', 'Rising Pune Supergiants', 'Sunrisers Hyderabad', 'Royal Challengers Bangalore', 'Kings XI Punjab', 'Sunrisers Hyderabad', 'Gujarat Lions', 'Royal Challengers Bangalore', 'Sunrisers Hyderabad', 'Mumbai Indians', 'Delhi Daredevils', 'Kings XI Punjab', 'Royal Challengers Bangalore', 'Kolkata Knight Riders', 'Sunrisers Hyderabad', 'Mumbai Indians', 'Royal Challengers Bangalore', 'Rising Pune Supergiants', 'Royal Challengers Bangalore', 'Gujarat Lions', 'Delhi Daredevils', 'Rising Pune Supergiants', 'Gujarat Lions', 'Kolkata Knight Riders', 'Royal Challengers Bangalore', 'Royal Challengers Bangalore', 'Sunrisers Hyderabad', 'Sunrisers Hyderabad', 'Sunrisers Hyderabad', 'Chennai Super Kings', 'Kings XI Punjab', 'Kolkata Knight Riders', 'Sunrisers Hyderabad', 'Chennai Super Kings', 'Rajasthan Royals', 'Sunrisers Hyderabad', 'Royal Challengers Bangalore', 'Delhi Daredevils', 'Sunrisers Hyderabad', 'Rajasthan Royals', 'Kings XI Punjab', 'Kolkata Knight Riders', 'Mumbai Indians', 'Kolkata Knight Riders', 'Kings XI Punjab', 'Chennai Super Kings', 'Kings XI Punjab', 'Royal Challengers Bangalore', 'Chennai Super Kings', 'Rajasthan Royals', 'Kings XI Punjab', 'Sunrisers Hyderabad', 'Chennai Super Kings', 'Sunrisers Hyderabad', 'Delhi Daredevils', 'Mumbai Indians', 'Sunrisers Hyderabad', 'Kolkata Knight Riders', 'Chennai Super Kings', 'Royal Challengers Bangalore', 'Delhi Daredevils', 'Kolkata Knight Riders', 'Mumbai Indians', 'Chennai Super Kings', 'Sunrisers Hyderabad', 'Mumbai Indians', 'Kings XI Punjab', 'Sunrisers Hyderabad', 'Rajasthan Royals', 'Mumbai Indians', 'Sunrisers Hyderabad', 'Rajasthan Royals', 'Kolkata Knight Riders', 'Royal Challengers Bangalore', 'Chennai Super Kings', 'Rajasthan Royals', 'Royal Challengers Bangalore', 'Kolkata Knight Riders', 'Mumbai Indians', 'Royal Challengers Bangalore', 'Delhi Daredevils', 'Rajasthan Royals', 'Kolkata Knight Riders', 'Delhi Daredevils', 'Chennai Super Kings', 'Chennai Super Kings', 'Kolkata Knight Riders', 'Sunrisers Hyderabad', 'Chennai Super Kings', 'Chennai Super Kings', 'Kolkata Knight Riders', 'Delhi Capitals', 'Kings XI Punjab', 'Chennai Super Kings', 'Kolkata Knight Riders', 'Mumbai Indians', 'Sunrisers Hyderabad', 'Kings XI Punjab', 'Delhi Capitals', 'Sunrisers Hyderabad', 'Chennai Super Kings', 'Kings XI Punjab', 'Rajasthan Royals', 'Mumbai Indians', 'Sunrisers Hyderabad', 'Kolkata Knight Riders', 'Chennai Super Kings', 'Mumbai Indians', 'Delhi Capitals', 'Kolkata Knight Riders', 'Kings XI Punjab', 'Chennai Super Kings', 'Mumbai Indians', 'Chennai Super Kings', 'Delhi Capitals', 'Rajasthan Royals', 'Royal Challengers Bangalore', 'Chennai Super Kings', 'Delhi Capitals', 'Mumbai Indians', 'Kings XI Punjab', 'Sunrisers Hyderabad', 'Mumbai Indians', 'Royal Challengers Bangalore', 'Rajasthan Royals', 'Delhi Capitals', 'Sunrisers Hyderabad', 'Royal Challengers Bangalore', 'Delhi Capitals', 'Chennai Super Kings', 'Royal Challengers Bangalore', 'Rajasthan Royals', 'Mumbai Indians', 'Rajasthan Royals', 'Delhi Capitals', 'Kolkata Knight Riders', 'Sunrisers Hyderabad', nan, 'Chennai Super Kings', 'Mumbai Indians', 'Kolkata Knight Riders', 'Delhi Capitals', 'Royal Challengers Bangalore', 'Kings XI Punjab', 'Mumbai Indians', 'Mumbai Indians', 'Delhi Capitals', 'Chennai Super Kings', 'Mumbai Indians']\n",
            "259\n",
            "134\n"
          ],
          "name": "stdout"
        },
        {
          "output_type": "execute_result",
          "data": {
            "text/plain": [
              "Text(1, 45.73378839590443, '45.77%')"
            ]
          },
          "metadata": {
            "tags": []
          },
          "execution_count": 52
        },
        {
          "output_type": "display_data",
          "data": {
            "image/png": "[encoded data removed]",
            "text/plain": [
              "<Figure size 432x576 with 1 Axes>"
            ]
          },
          "metadata": {
            "tags": [],
            "needs_background": "light"
          }
        }
      ]
    },
    {
      "cell_type": "code",
      "metadata": {
        "colab": {
          "base_uri": "https://localhost:8080/",
          "height": 703
        },
        "id": "UnMKCYM32vSN",
        "outputId": "ee3e1418-8e45-43dd-c06c-56ba0c64de00"
      },
      "source": [
        "a=ipl_match_df['dl_applied'].value_counts()\n",
        "match= ['Normal MAtches','Duckword Lewis Applied']\n",
        "match_count=[737,19]\n",
        "colors=(\"yellow\",\"red\")\n",
        "fig=plt.figure(figsize=(15,10.5))\n",
        "plt.pie(match_count,labels=match,colors=colors,autopct='%1.2f%%')\n",
        "\n"
      ],
      "execution_count": null,
      "outputs": [
        {
          "output_type": "execute_result",
          "data": {
            "text/plain": [
              "([<matplotlib.patches.Wedge at 0x7f72fd804b90>,\n",
              "  <matplotlib.patches.Wedge at 0x7f72fd80f2d0>],\n",
              " [Text(-1.0965731016216453, 0.08676077915674248, 'Normal MAtches'),\n",
              "  Text(1.0965730950215986, -0.08676086257496675, 'Duckword Lewis Applied')],\n",
              " [Text(-0.5981307827027156, 0.04732406135822316, '97.49%'),\n",
              "  Text(0.5981307791026901, -0.04732410685907277, '2.51%')])"
            ]
          },
          "metadata": {
            "tags": []
          },
          "execution_count": 82
        },
        {
          "output_type": "display_data",
          "data": {
            "image/png": "[encoded data removed]",
            "text/plain": [
              "<Figure size 1080x756 with 1 Axes>"
            ]
          },
          "metadata": {
            "tags": []
          }
        }
      ]
    },
    {
      "cell_type": "code",
      "metadata": {
        "id": "AbFTzQ5W2vO-"
      },
      "source": [
        ""
      ],
      "execution_count": null,
      "outputs": []
    },
    {
      "cell_type": "code",
      "metadata": {
        "id": "WE7a5s-p2vLR"
      },
      "source": [
        ""
      ],
      "execution_count": null,
      "outputs": []
    },
    {
      "cell_type": "code",
      "metadata": {
        "id": "sknTSeyv2vHw"
      },
      "source": [
        ""
      ],
      "execution_count": null,
      "outputs": []
    },
    {
      "cell_type": "code",
      "metadata": {
        "id": "OwvXLL-a2u7G"
      },
      "source": [
        ""
      ],
      "execution_count": null,
      "outputs": []
    }
  ]
}